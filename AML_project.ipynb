{
  "nbformat": 4,
  "nbformat_minor": 0,
  "metadata": {
    "colab": {
      "provenance": [],
      "gpuType": "T4",
      "include_colab_link": true
    },
    "kernelspec": {
      "name": "python3",
      "display_name": "Python 3"
    },
    "language_info": {
      "name": "python"
    },
    "accelerator": "GPU"
  },
  "cells": [
    {
      "cell_type": "markdown",
      "metadata": {
        "id": "view-in-github",
        "colab_type": "text"
      },
      "source": [
        "<a href=\"https://colab.research.google.com/github/peppe-sc/AML_project_poliTO/blob/test_AI/AML_project.ipynb\" target=\"_parent\"><img src=\"https://colab.research.google.com/assets/colab-badge.svg\" alt=\"Open In Colab\"/></a>"
      ]
    },
    {
      "cell_type": "code",
      "source": [],
      "metadata": {
        "id": "5hmTE0W4Q3MF"
      },
      "execution_count": null,
      "outputs": []
    },
    {
      "cell_type": "code",
      "source": [
        "#from google.colab import drive\n",
        "#drive.mount('/content/drive')"
      ],
      "metadata": {
        "id": "46Fyb3T0L984"
      },
      "execution_count": 1,
      "outputs": []
    },
    {
      "cell_type": "code",
      "source": [
        "#!jar xvf  \"/content/drive/MyDrive/AML/GTA5.zip\""
      ],
      "metadata": {
        "id": "vCwFmaERVEbd"
      },
      "execution_count": 2,
      "outputs": []
    },
    {
      "cell_type": "code",
      "source": [
        "#!jar xvf  \"/content/drive/MyDrive/AML/Cityscapes.zip\""
      ],
      "metadata": {
        "id": "uA1jURCaWA2t"
      },
      "execution_count": 3,
      "outputs": []
    },
    {
      "cell_type": "code",
      "source": [
        "import os\n",
        "import os.path\n",
        "\n",
        "if not os.path.isdir('/content/AML_project_poliTO'):\n",
        "  !git clone https://github.com/peppe-sc/AML_project_poliTO.git\n",
        "  %cd AML_project_poliTO\n",
        "\n",
        "if os.path.isdir('./AML_project_poliTO'):\n",
        "  %cd AML_project_poliTO\n",
        "\n",
        "\n",
        "!git pull\n",
        "!git checkout test_AI\n"
      ],
      "metadata": {
        "id": "1AvkVqojIyOq",
        "colab": {
          "base_uri": "https://localhost:8080/"
        },
        "outputId": "0fffdf45-8937-431c-fcbd-17a46363e9e0"
      },
      "execution_count": 4,
      "outputs": [
        {
          "output_type": "stream",
          "name": "stdout",
          "text": [
            "/content/AML_project_poliTO\n",
            "remote: Enumerating objects: 6, done.\u001b[K\n",
            "remote: Counting objects: 100% (6/6), done.\u001b[K\n",
            "remote: Compressing objects: 100% (4/4), done.\u001b[K\n",
            "remote: Total 6 (delta 2), reused 6 (delta 2), pack-reused 0\u001b[K\n",
            "Unpacking objects: 100% (6/6), 2.63 KiB | 1.31 MiB/s, done.\n",
            "From https://github.com/peppe-sc/AML_project_poliTO\n",
            "   7135b6f..079cefc  test_AI    -> origin/test_AI\n",
            "Updating 7135b6f..079cefc\n",
            "Fast-forward\n",
            " cityscapes.py | 5 \u001b[32m+++\u001b[m\u001b[31m--\u001b[m\n",
            " 1 file changed, 3 insertions(+), 2 deletions(-)\n",
            "Already on 'test_AI'\n",
            "Your branch is up to date with 'origin/test_AI'.\n"
          ]
        }
      ]
    },
    {
      "cell_type": "code",
      "source": [
        "optimizer = \"adam\"\n",
        "num_epochs = 50\n",
        "learning_rate = 0.01\n",
        "batch_size = 2\n",
        "num_classes = 19\n",
        "checkpoint_step = 10\n",
        "save_model_path = \"/content/my_checkpoint\"\n",
        "validation_step = 1\n",
        "mode = \"train\"\n",
        "num_workers = 2\n",
        "backbone = \"STDCNet813\"\n",
        "pretrain_path = \"checkpoints/STDCNet813M_73.91.tar\"\n",
        "use_conv_last = False\n",
        "use_gpu = True"
      ],
      "metadata": {
        "id": "8cu2OZFK_UvK"
      },
      "execution_count": 5,
      "outputs": []
    },
    {
      "cell_type": "code",
      "source": [
        "import os\n",
        "import logging\n",
        "\n",
        "import torch\n",
        "import torch.nn as nn\n",
        "import torch.optim as optim\n",
        "from torch.utils.data import Subset, DataLoader\n",
        "from torch.backends import cudnn\n",
        "\n",
        "import torchvision\n",
        "from torchvision import transforms\n",
        "from torchvision.transforms import v2\n",
        "from torchvision.models import alexnet\n",
        "\n",
        "from PIL import Image\n",
        "from tqdm import tqdm"
      ],
      "metadata": {
        "id": "4S7PDmTqDH85"
      },
      "execution_count": 6,
      "outputs": []
    },
    {
      "cell_type": "code",
      "source": [
        "from model.model_stages import BiSeNet\n",
        "from cityscapes import CityScapes\n",
        "import torch\n",
        "from torch.utils.data import DataLoader\n",
        "import logging\n",
        "import argparse\n",
        "import numpy as np\n",
        "!pip install tensorboardX\n",
        "from tensorboardX import SummaryWriter\n",
        "import torch.cuda.amp as amp\n",
        "from utils import poly_lr_scheduler\n",
        "from utils import reverse_one_hot, compute_global_accuracy, fast_hist, per_class_iu\n",
        "from tqdm import tqdm\n",
        "\n",
        "logger = logging.getLogger()\n",
        "\n",
        "\n",
        "def val(model, dataloader):\n",
        "    print('start val!')\n",
        "    with torch.no_grad():\n",
        "        model.eval()\n",
        "        precision_record = []\n",
        "        hist = np.zeros((num_classes, num_classes))\n",
        "        for i, (data, label) in enumerate(dataloader):\n",
        "            label = label.type(torch.LongTensor)\n",
        "            data = data.cuda()\n",
        "            label = label.long().cuda()\n",
        "\n",
        "            # get RGB predict image\n",
        "            predict, _, _ = model(data)\n",
        "            predict = predict.squeeze(0)\n",
        "            predict = reverse_one_hot(predict)\n",
        "            predict = np.array(predict.cpu())\n",
        "\n",
        "            # get RGB label image\n",
        "            label = label.squeeze()\n",
        "            label = np.array(label.cpu())\n",
        "\n",
        "            # compute per pixel accuracy\n",
        "            precision = compute_global_accuracy(predict, label)\n",
        "            hist += fast_hist(label.flatten(), predict.flatten(), num_classes)\n",
        "\n",
        "            # there is no need to transform the one-hot array to visual RGB array\n",
        "            # predict = colour_code_segmentation(np.array(predict), label_info)\n",
        "            # label = colour_code_segmentation(np.array(label), label_info)\n",
        "            precision_record.append(precision)\n",
        "\n",
        "        precision = np.mean(precision_record)\n",
        "        miou_list = per_class_iu(hist)\n",
        "        miou = np.mean(miou_list)\n",
        "        print('precision per pixel for test: %.3f' % precision)\n",
        "        print('mIoU for validation: %.3f' % miou)\n",
        "        print(f'mIoU per class: {miou_list}')\n",
        "\n",
        "        return precision, miou\n",
        "\n",
        "def str2bool(v):\n",
        "    if v.lower() in ('yes', 'true', 't', 'y', '1'):\n",
        "        return True\n",
        "    elif v.lower() in ('no', 'false', 'f', 'n', '0'):\n",
        "        return False\n",
        "    else:\n",
        "        raise argparse.ArgumentTypeError('Unsupported value encountered.')"
      ],
      "metadata": {
        "id": "Ou_pPybq-Zv7",
        "outputId": "9a3b22c4-002e-45ca-b124-3679b2fc1c0e",
        "colab": {
          "base_uri": "https://localhost:8080/"
        }
      },
      "execution_count": 7,
      "outputs": [
        {
          "output_type": "stream",
          "name": "stdout",
          "text": [
            "Requirement already satisfied: tensorboardX in /usr/local/lib/python3.10/dist-packages (2.6.2.2)\n",
            "Requirement already satisfied: numpy in /usr/local/lib/python3.10/dist-packages (from tensorboardX) (1.23.5)\n",
            "Requirement already satisfied: packaging in /usr/local/lib/python3.10/dist-packages (from tensorboardX) (23.2)\n",
            "Requirement already satisfied: protobuf>=3.20 in /usr/local/lib/python3.10/dist-packages (from tensorboardX) (3.20.3)\n"
          ]
        }
      ]
    },
    {
      "cell_type": "code",
      "source": [
        "import math\n",
        "def train( model, optimizer, dataloader_train, dataloader_val):\n",
        "    writer = SummaryWriter(comment=''.format(optimizer))\n",
        "    nans = []\n",
        "    scaler = amp.GradScaler()\n",
        "\n",
        "    loss_func = torch.nn.CrossEntropyLoss(ignore_index=255)\n",
        "    max_miou = 0\n",
        "    step = 0\n",
        "    for epoch in range(num_epochs):\n",
        "        lr = poly_lr_scheduler(optimizer, learning_rate, iter=epoch, max_iter=num_epochs)\n",
        "        model.train()\n",
        "        tq = tqdm(total=len(dataloader_train) * batch_size)\n",
        "        tq.set_description('epoch %d, lr %f' % (epoch, lr))\n",
        "        loss_record = []\n",
        "        for i, (data, label) in enumerate(dataloader_train):\n",
        "            data = data.cuda()\n",
        "            label = label.long().cuda()\n",
        "            optimizer.zero_grad()\n",
        "\n",
        "           #print(\"\\n\")\n",
        "           #print(data.size())\n",
        "           #print(\"\\n\")\n",
        "           #print(label.size())\n",
        "           #print(torch.squeeze(label,1).size())\n",
        "           #print(\"\\n\")\n",
        "\n",
        "            with amp.autocast():\n",
        "                output, out16, out32 = model(data)\n",
        "                print(\"###\")\n",
        "                print(label.squeeze(1).size())\n",
        "                print(\"###\")\n",
        "                print(out16.size())\n",
        "                print(\"###\")\n",
        "                print(out32.size())\n",
        "                loss1 = loss_func(output, label.squeeze(1))\n",
        "                loss2 = loss_func(out16, label.squeeze(1))\n",
        "                loss3 = loss_func(out32, label.squeeze(1))\n",
        "                loss = loss1 + loss2 + loss3\n",
        "                #print(loss)\n",
        "            scaler.scale(loss).backward()\n",
        "            scaler.step(optimizer)\n",
        "            scaler.update()\n",
        "\n",
        "            tq.update(batch_size)\n",
        "            tq.set_postfix(loss='%.6f' % loss)\n",
        "            step += 1\n",
        "            writer.add_scalar('loss_step', loss, step)\n",
        "            loss_record.append(loss.item())\n",
        "            if math.isnan(loss.item()):\n",
        "              nans.append(loss.item())\n",
        "        tq.close()\n",
        "        loss_train_mean = np.mean(loss_record)\n",
        "        writer.add_scalar('epoch/loss_epoch_train', float(loss_train_mean), epoch)\n",
        "        print('loss for train : %f' % (loss_train_mean))\n",
        "        if epoch % checkpoint_step == 0 and epoch != 0:\n",
        "            #print(\"\\n\")\n",
        "            #print(nans)\n",
        "            #print(\"\\n\")\n",
        "            import os\n",
        "            if not os.path.isdir(save_model_path):\n",
        "                os.mkdir(save_model_path)\n",
        "            torch.save(model.module.state_dict(), os.path.join(save_model_path, 'latest.pth'))\n",
        "\n",
        "        if epoch % validation_step == 0 and epoch != 0:\n",
        "            precision, miou = val( model, dataloader_val)\n",
        "            if miou > max_miou:\n",
        "                max_miou = miou\n",
        "                import os\n",
        "                os.makedirs(save_model_path, exist_ok=True)\n",
        "                torch.save(model.module.state_dict(), os.path.join(save_model_path, 'best.pth'))\n",
        "            writer.add_scalar('epoch/precision_val', precision, epoch)\n",
        "            writer.add_scalar('epoch/miou val', miou, epoch)\n",
        "\n"
      ],
      "metadata": {
        "id": "x3axJUL7-5HA"
      },
      "execution_count": 8,
      "outputs": []
    },
    {
      "cell_type": "code",
      "source": [
        "n_classes = num_classes\n",
        "\n",
        "\n",
        "\n",
        "train_dataset = CityScapes(mode='train',rootpth='/content/Cityscapes/Cityspaces')\n",
        "dataloader_train = DataLoader(train_dataset,\n",
        "                batch_size=batch_size,\n",
        "                shuffle=False,\n",
        "                num_workers=num_workers,\n",
        "                pin_memory=False,\n",
        "                drop_last=True)\n",
        "\n",
        "val_dataset = CityScapes(mode='val',rootpth='/content/Cityscapes/Cityspaces')\n",
        "dataloader_val = DataLoader(val_dataset,\n",
        "                   batch_size=1,\n",
        "                   shuffle=False,\n",
        "                   num_workers=num_workers,\n",
        "                   drop_last=False)\n",
        "\n",
        "## model\n",
        "model = BiSeNet(backbone=backbone, n_classes=n_classes, pretrain_model=pretrain_path, use_conv_last=use_conv_last)\n",
        "\n",
        "if torch.cuda.is_available() and use_gpu:\n",
        "    model = torch.nn.DataParallel(model).cuda()\n",
        "\n",
        "## optimizer\n",
        "# build optimizer\n",
        "if optimizer == 'rmsprop':\n",
        "    optimizer = torch.optim.RMSprop(model.parameters(), learning_rate)\n",
        "elif optimizer == 'sgd':\n",
        "    optimizer = torch.optim.SGD(model.parameters(), learning_rate, momentum=0.9, weight_decay=1e-4)\n",
        "elif optimizer == 'adam':\n",
        "    optimizer = torch.optim.Adam(model.parameters(), learning_rate)\n",
        "else:  # rmsprop\n",
        "    print('not supported optimizer, using adam\\n')\n",
        "    optimizer = torch.optim.Adam(model.parameters(), learning_rate)\n",
        "\n",
        "\n",
        "## train loop\n",
        "train(model, optimizer, dataloader_train, dataloader_val)\n",
        "# final test\n",
        "val(model, dataloader_val)"
      ],
      "metadata": {
        "id": "XdrrqByPB1gC",
        "outputId": "cf3f17c1-df1a-4955-d292-d4cc9a7fab85",
        "colab": {
          "base_uri": "https://localhost:8080/",
          "height": 1000
        }
      },
      "execution_count": 10,
      "outputs": [
        {
          "output_type": "stream",
          "name": "stdout",
          "text": [
            "self.mode train\n",
            "self.len train 1572\n",
            "self.mode val\n",
            "self.len val 500\n",
            "use pretrain model checkpoints/STDCNet813M_73.91.tar\n",
            "not supported optimizer, using adam\n",
            "\n"
          ]
        },
        {
          "output_type": "stream",
          "name": "stderr",
          "text": [
            "\n",
            "  0%|          | 0/1572 [00:00<?, ?it/s]\u001b[A\n",
            "epoch 0, lr 0.010000:   0%|          | 0/1572 [00:00<?, ?it/s]\u001b[A\n",
            "epoch 0, lr 0.010000:   0%|          | 2/1572 [00:02<33:37,  1.28s/it]\u001b[A\n",
            "epoch 0, lr 0.010000:   0%|          | 2/1572 [00:02<33:37,  1.28s/it, loss=9.191288]\u001b[A"
          ]
        },
        {
          "output_type": "stream",
          "name": "stdout",
          "text": [
            "###\n",
            "torch.Size([2, 480, 640])\n",
            "###\n",
            "torch.Size([2, 19, 480, 640])\n",
            "###\n",
            "torch.Size([2, 19, 480, 640])\n"
          ]
        },
        {
          "output_type": "stream",
          "name": "stderr",
          "text": [
            "\n",
            "epoch 0, lr 0.010000:   0%|          | 4/1572 [00:02<15:24,  1.70it/s, loss=9.191288]\u001b[A\n",
            "epoch 0, lr 0.010000:   0%|          | 4/1572 [00:02<15:24,  1.70it/s, loss=6.622373]\u001b[A"
          ]
        },
        {
          "output_type": "stream",
          "name": "stdout",
          "text": [
            "###\n",
            "torch.Size([2, 480, 640])\n",
            "###\n",
            "torch.Size([2, 19, 480, 640])\n",
            "###\n",
            "torch.Size([2, 19, 480, 640])\n"
          ]
        },
        {
          "output_type": "stream",
          "name": "stderr",
          "text": [
            "\n",
            "epoch 0, lr 0.010000:   0%|          | 6/1572 [00:05<21:48,  1.20it/s, loss=6.622373]\u001b[A\n",
            "epoch 0, lr 0.010000:   0%|          | 6/1572 [00:05<21:48,  1.20it/s, loss=6.696779]\u001b[A"
          ]
        },
        {
          "output_type": "stream",
          "name": "stdout",
          "text": [
            "###\n",
            "torch.Size([2, 480, 640])\n",
            "###\n",
            "torch.Size([2, 19, 480, 640])\n",
            "###\n",
            "torch.Size([2, 19, 480, 640])\n"
          ]
        },
        {
          "output_type": "stream",
          "name": "stderr",
          "text": [
            "\n",
            "epoch 0, lr 0.010000:   1%|          | 8/1572 [00:05<14:19,  1.82it/s, loss=6.696779]\u001b[A\n",
            "epoch 0, lr 0.010000:   1%|          | 8/1572 [00:05<14:19,  1.82it/s, loss=5.173381]\u001b[A"
          ]
        },
        {
          "output_type": "stream",
          "name": "stdout",
          "text": [
            "###\n",
            "torch.Size([2, 480, 640])\n",
            "###\n",
            "torch.Size([2, 19, 480, 640])\n",
            "###\n",
            "torch.Size([2, 19, 480, 640])\n"
          ]
        },
        {
          "output_type": "stream",
          "name": "stderr",
          "text": [
            "\n",
            "epoch 0, lr 0.010000:   1%|          | 10/1572 [00:07<20:05,  1.30it/s, loss=5.173381]\u001b[A\n",
            "epoch 0, lr 0.010000:   1%|          | 10/1572 [00:07<20:05,  1.30it/s, loss=2.874270]\u001b[A"
          ]
        },
        {
          "output_type": "stream",
          "name": "stdout",
          "text": [
            "###\n",
            "torch.Size([2, 480, 640])\n",
            "###\n",
            "torch.Size([2, 19, 480, 640])\n",
            "###\n",
            "torch.Size([2, 19, 480, 640])\n"
          ]
        },
        {
          "output_type": "stream",
          "name": "stderr",
          "text": [
            "\n",
            "epoch 0, lr 0.010000:   1%|          | 12/1572 [00:07<14:15,  1.82it/s, loss=2.874270]\u001b[A\n",
            "epoch 0, lr 0.010000:   1%|          | 12/1572 [00:07<14:15,  1.82it/s, loss=1.523445]\u001b[A"
          ]
        },
        {
          "output_type": "stream",
          "name": "stdout",
          "text": [
            "###\n",
            "torch.Size([2, 480, 640])\n",
            "###\n",
            "torch.Size([2, 19, 480, 640])\n",
            "###\n",
            "torch.Size([2, 19, 480, 640])\n"
          ]
        },
        {
          "output_type": "stream",
          "name": "stderr",
          "text": [
            "\n",
            "epoch 0, lr 0.010000:   1%|          | 14/1572 [00:09<18:20,  1.42it/s, loss=1.523445]\u001b[A\n",
            "epoch 0, lr 0.010000:   1%|          | 14/1572 [00:09<18:20,  1.42it/s, loss=0.847500]\u001b[A"
          ]
        },
        {
          "output_type": "stream",
          "name": "stdout",
          "text": [
            "###\n",
            "torch.Size([2, 480, 640])\n",
            "###\n",
            "torch.Size([2, 19, 480, 640])\n",
            "###\n",
            "torch.Size([2, 19, 480, 640])\n"
          ]
        },
        {
          "output_type": "stream",
          "name": "stderr",
          "text": [
            "\n",
            "epoch 0, lr 0.010000:   1%|          | 16/1572 [00:10<13:21,  1.94it/s, loss=0.847500]\u001b[A\n",
            "epoch 0, lr 0.010000:   1%|          | 16/1572 [00:10<13:21,  1.94it/s, loss=0.470580]\u001b[A"
          ]
        },
        {
          "output_type": "stream",
          "name": "stdout",
          "text": [
            "###\n",
            "torch.Size([2, 480, 640])\n",
            "###\n",
            "torch.Size([2, 19, 480, 640])\n",
            "###\n",
            "torch.Size([2, 19, 480, 640])\n"
          ]
        },
        {
          "output_type": "stream",
          "name": "stderr",
          "text": [
            "\n",
            "epoch 0, lr 0.010000:   1%|          | 18/1572 [00:11<15:19,  1.69it/s, loss=0.470580]\u001b[A\n",
            "epoch 0, lr 0.010000:   1%|          | 18/1572 [00:11<15:19,  1.69it/s, loss=0.263050]\u001b[A"
          ]
        },
        {
          "output_type": "stream",
          "name": "stdout",
          "text": [
            "###\n",
            "torch.Size([2, 480, 640])\n",
            "###\n",
            "torch.Size([2, 19, 480, 640])\n",
            "###\n",
            "torch.Size([2, 19, 480, 640])\n",
            "###\n",
            "torch.Size([2, 480, 640])\n",
            "###\n",
            "torch.Size([2, 19, 480, 640])\n",
            "###\n",
            "torch.Size([2, 19, 480, 640])\n"
          ]
        },
        {
          "output_type": "stream",
          "name": "stderr",
          "text": [
            "\n",
            "epoch 0, lr 0.010000:   1%|▏         | 20/1572 [00:11<11:05,  2.33it/s, loss=0.263050]\u001b[A\n",
            "epoch 0, lr 0.010000:   1%|▏         | 20/1572 [00:11<11:05,  2.33it/s, loss=0.142320]\u001b[A\n",
            "epoch 0, lr 0.010000:   1%|▏         | 22/1572 [00:13<13:23,  1.93it/s, loss=0.142320]\u001b[A\n",
            "epoch 0, lr 0.010000:   1%|▏         | 22/1572 [00:13<13:23,  1.93it/s, loss=0.092954]\u001b[A"
          ]
        },
        {
          "output_type": "stream",
          "name": "stdout",
          "text": [
            "###\n",
            "torch.Size([2, 480, 640])\n",
            "###\n",
            "torch.Size([2, 19, 480, 640])\n",
            "###\n",
            "torch.Size([2, 19, 480, 640])\n",
            "###\n",
            "torch.Size([2, 480, 640])\n",
            "###\n",
            "torch.Size([2, 19, 480, 640])\n",
            "###\n",
            "torch.Size([2, 19, 480, 640])\n"
          ]
        },
        {
          "output_type": "stream",
          "name": "stderr",
          "text": [
            "\n",
            "epoch 0, lr 0.010000:   2%|▏         | 24/1572 [00:13<09:53,  2.61it/s, loss=0.092954]\u001b[A\n",
            "epoch 0, lr 0.010000:   2%|▏         | 24/1572 [00:13<09:53,  2.61it/s, loss=0.060407]\u001b[A\n",
            "epoch 0, lr 0.010000:   2%|▏         | 26/1572 [00:14<12:42,  2.03it/s, loss=0.060407]\u001b[A\n",
            "epoch 0, lr 0.010000:   2%|▏         | 26/1572 [00:14<12:42,  2.03it/s, loss=0.035566]\u001b[A"
          ]
        },
        {
          "output_type": "stream",
          "name": "stdout",
          "text": [
            "###\n",
            "torch.Size([2, 480, 640])\n",
            "###\n",
            "torch.Size([2, 19, 480, 640])\n",
            "###\n",
            "torch.Size([2, 19, 480, 640])\n",
            "###\n",
            "torch.Size([2, 480, 640])\n",
            "###\n",
            "torch.Size([2, 19, 480, 640])\n",
            "###\n",
            "torch.Size([2, 19, 480, 640])\n"
          ]
        },
        {
          "output_type": "stream",
          "name": "stderr",
          "text": [
            "\n",
            "epoch 0, lr 0.010000:   2%|▏         | 28/1572 [00:14<09:27,  2.72it/s, loss=0.035566]\u001b[A\n",
            "epoch 0, lr 0.010000:   2%|▏         | 28/1572 [00:14<09:27,  2.72it/s, loss=0.023652]\u001b[A\n",
            "epoch 0, lr 0.010000:   2%|▏         | 30/1572 [00:16<11:54,  2.16it/s, loss=0.023652]\u001b[A\n",
            "epoch 0, lr 0.010000:   2%|▏         | 30/1572 [00:16<11:54,  2.16it/s, loss=0.016591]\u001b[A"
          ]
        },
        {
          "output_type": "stream",
          "name": "stdout",
          "text": [
            "###\n",
            "torch.Size([2, 480, 640])\n",
            "###\n",
            "torch.Size([2, 19, 480, 640])\n",
            "###\n",
            "torch.Size([2, 19, 480, 640])\n",
            "###\n",
            "torch.Size([2, 480, 640])\n",
            "###\n",
            "torch.Size([2, 19, 480, 640])\n",
            "###\n",
            "torch.Size([2, 19, 480, 640])\n"
          ]
        },
        {
          "output_type": "stream",
          "name": "stderr",
          "text": [
            "\n",
            "epoch 0, lr 0.010000:   2%|▏         | 32/1572 [00:16<08:55,  2.88it/s, loss=0.016591]\u001b[A\n",
            "epoch 0, lr 0.010000:   2%|▏         | 32/1572 [00:16<08:55,  2.88it/s, loss=0.010961]\u001b[A\n",
            "epoch 0, lr 0.010000:   2%|▏         | 34/1572 [00:18<12:22,  2.07it/s, loss=0.010961]\u001b[A\n",
            "epoch 0, lr 0.010000:   2%|▏         | 34/1572 [00:18<12:22,  2.07it/s, loss=0.008518]\u001b[A"
          ]
        },
        {
          "output_type": "stream",
          "name": "stdout",
          "text": [
            "###\n",
            "torch.Size([2, 480, 640])\n",
            "###\n",
            "torch.Size([2, 19, 480, 640])\n",
            "###\n",
            "torch.Size([2, 19, 480, 640])\n",
            "###\n"
          ]
        },
        {
          "output_type": "stream",
          "name": "stderr",
          "text": [
            "\n",
            "epoch 0, lr 0.010000:   2%|▏         | 36/1572 [00:18<09:19,  2.74it/s, loss=0.008518]\u001b[A\n",
            "epoch 0, lr 0.010000:   2%|▏         | 36/1572 [00:18<09:19,  2.74it/s, loss=0.006284]\u001b[A"
          ]
        },
        {
          "output_type": "stream",
          "name": "stdout",
          "text": [
            "torch.Size([2, 480, 640])\n",
            "###\n",
            "torch.Size([2, 19, 480, 640])\n",
            "###\n",
            "torch.Size([2, 19, 480, 640])\n"
          ]
        },
        {
          "output_type": "stream",
          "name": "stderr",
          "text": [
            "\n",
            "epoch 0, lr 0.010000:   2%|▏         | 38/1572 [00:19<11:54,  2.15it/s, loss=0.006284]\u001b[A\n",
            "epoch 0, lr 0.010000:   2%|▏         | 38/1572 [00:19<11:54,  2.15it/s, loss=0.006341]\u001b[A"
          ]
        },
        {
          "output_type": "stream",
          "name": "stdout",
          "text": [
            "###\n",
            "torch.Size([2, 480, 640])\n",
            "###\n",
            "torch.Size([2, 19, 480, 640])\n",
            "###\n",
            "torch.Size([2, 19, 480, 640])\n",
            "###\n",
            "torch.Size([2, 480, 640])\n",
            "###\n",
            "torch.Size([2, 19, 480, 640])\n",
            "###\n",
            "torch.Size([2, 19, 480, 640])\n"
          ]
        },
        {
          "output_type": "stream",
          "name": "stderr",
          "text": [
            "\n",
            "epoch 0, lr 0.010000:   3%|▎         | 40/1572 [00:19<08:58,  2.85it/s, loss=0.006341]\u001b[A\n",
            "epoch 0, lr 0.010000:   3%|▎         | 40/1572 [00:19<08:58,  2.85it/s, loss=0.003687]\u001b[A\n",
            "epoch 0, lr 0.010000:   3%|▎         | 42/1572 [00:22<17:16,  1.48it/s, loss=0.003687]\u001b[A\n",
            "epoch 0, lr 0.010000:   3%|▎         | 42/1572 [00:22<17:16,  1.48it/s, loss=0.003157]\u001b[A"
          ]
        },
        {
          "output_type": "stream",
          "name": "stdout",
          "text": [
            "###\n",
            "torch.Size([2, 480, 640])\n",
            "###\n",
            "torch.Size([2, 19, 480, 640])\n",
            "###\n",
            "torch.Size([2, 19, 480, 640])\n"
          ]
        },
        {
          "output_type": "stream",
          "name": "stderr",
          "text": [
            "\n",
            "epoch 0, lr 0.010000:   3%|▎         | 44/1572 [00:22<12:55,  1.97it/s, loss=0.003157]\u001b[A\n",
            "epoch 0, lr 0.010000:   3%|▎         | 44/1572 [00:22<12:55,  1.97it/s, loss=0.002416]\u001b[A"
          ]
        },
        {
          "output_type": "stream",
          "name": "stdout",
          "text": [
            "###\n",
            "torch.Size([2, 480, 640])\n",
            "###\n",
            "torch.Size([2, 19, 480, 640])\n",
            "###\n",
            "torch.Size([2, 19, 480, 640])\n"
          ]
        },
        {
          "output_type": "stream",
          "name": "stderr",
          "text": [
            "\n",
            "epoch 0, lr 0.010000:   3%|▎         | 46/1572 [00:25<17:48,  1.43it/s, loss=0.002416]\u001b[A\n",
            "epoch 0, lr 0.010000:   3%|▎         | 46/1572 [00:25<17:48,  1.43it/s, loss=0.002009]\u001b[A"
          ]
        },
        {
          "output_type": "stream",
          "name": "stdout",
          "text": [
            "###\n",
            "torch.Size([2, 480, 640])\n",
            "###\n",
            "torch.Size([2, 19, 480, 640])\n",
            "###\n",
            "torch.Size([2, 19, 480, 640])\n"
          ]
        },
        {
          "output_type": "stream",
          "name": "stderr",
          "text": [
            "\n",
            "epoch 0, lr 0.010000:   3%|▎         | 48/1572 [00:25<13:20,  1.90it/s, loss=0.002009]\u001b[A\n",
            "epoch 0, lr 0.010000:   3%|▎         | 48/1572 [00:25<13:20,  1.90it/s, loss=0.001580]\u001b[A"
          ]
        },
        {
          "output_type": "stream",
          "name": "stdout",
          "text": [
            "###\n",
            "torch.Size([2, 480, 640])\n",
            "###\n",
            "torch.Size([2, 19, 480, 640])\n",
            "###\n",
            "torch.Size([2, 19, 480, 640])\n"
          ]
        },
        {
          "output_type": "stream",
          "name": "stderr",
          "text": [
            "\n",
            "epoch 0, lr 0.010000:   3%|▎         | 50/1572 [00:27<16:41,  1.52it/s, loss=0.001580]\u001b[A\n",
            "epoch 0, lr 0.010000:   3%|▎         | 50/1572 [00:27<16:41,  1.52it/s, loss=0.001507]\u001b[A"
          ]
        },
        {
          "output_type": "stream",
          "name": "stdout",
          "text": [
            "###\n",
            "torch.Size([2, 480, 640])\n",
            "###\n",
            "torch.Size([2, 19, 480, 640])\n",
            "###\n",
            "torch.Size([2, 19, 480, 640])\n",
            "###\n",
            "torch.Size([2, 480, 640])\n",
            "###\n",
            "torch.Size([2, 19, 480, 640])\n",
            "###\n",
            "torch.Size([2, 19, 480, 640])\n"
          ]
        },
        {
          "output_type": "stream",
          "name": "stderr",
          "text": [
            "\n",
            "epoch 0, lr 0.010000:   3%|▎         | 52/1572 [00:27<12:21,  2.05it/s, loss=0.001507]\u001b[A\n",
            "epoch 0, lr 0.010000:   3%|▎         | 52/1572 [00:27<12:21,  2.05it/s, loss=0.001195]\u001b[A\n",
            "epoch 0, lr 0.010000:   3%|▎         | 54/1572 [00:29<14:18,  1.77it/s, loss=0.001195]\u001b[A\n",
            "epoch 0, lr 0.010000:   3%|▎         | 54/1572 [00:29<14:18,  1.77it/s, loss=0.001061]\u001b[A"
          ]
        },
        {
          "output_type": "stream",
          "name": "stdout",
          "text": [
            "###\n",
            "torch.Size([2, 480, 640])\n",
            "###\n",
            "torch.Size([2, 19, 480, 640])\n",
            "###\n",
            "torch.Size([2, 19, 480, 640])\n",
            "###\n",
            "torch.Size([2, 480, 640])\n",
            "###\n",
            "torch.Size([2, 19, 480, 640])\n",
            "###\n",
            "torch.Size([2, 19, 480, 640])\n"
          ]
        },
        {
          "output_type": "stream",
          "name": "stderr",
          "text": [
            "\n",
            "epoch 0, lr 0.010000:   4%|▎         | 56/1572 [00:29<10:36,  2.38it/s, loss=0.001061]\u001b[A\n",
            "epoch 0, lr 0.010000:   4%|▎         | 56/1572 [00:29<10:36,  2.38it/s, loss=0.000963]\u001b[A\n",
            "epoch 0, lr 0.010000:   4%|▎         | 58/1572 [00:30<12:34,  2.01it/s, loss=0.000963]\u001b[A\n",
            "epoch 0, lr 0.010000:   4%|▎         | 58/1572 [00:30<12:34,  2.01it/s, loss=0.000817]\u001b[A"
          ]
        },
        {
          "output_type": "stream",
          "name": "stdout",
          "text": [
            "###\n",
            "torch.Size([2, 480, 640])\n",
            "###\n",
            "torch.Size([2, 19, 480, 640])\n",
            "###\n",
            "torch.Size([2, 19, 480, 640])\n",
            "###\n",
            "torch.Size([2, 480, 640])\n",
            "###\n",
            "torch.Size([2, 19, 480, 640])\n",
            "###\n",
            "torch.Size([2, 19, 480, 640])\n"
          ]
        },
        {
          "output_type": "stream",
          "name": "stderr",
          "text": [
            "\n",
            "epoch 0, lr 0.010000:   4%|▍         | 60/1572 [00:30<09:24,  2.68it/s, loss=0.000817]\u001b[A\n",
            "epoch 0, lr 0.010000:   4%|▍         | 60/1572 [00:30<09:24,  2.68it/s, loss=0.000744]\u001b[A\n",
            "epoch 0, lr 0.010000:   4%|▍         | 62/1572 [00:32<11:56,  2.11it/s, loss=0.000744]\u001b[A\n",
            "epoch 0, lr 0.010000:   4%|▍         | 62/1572 [00:32<11:56,  2.11it/s, loss=0.000723]\u001b[A"
          ]
        },
        {
          "output_type": "stream",
          "name": "stdout",
          "text": [
            "###\n",
            "torch.Size([2, 480, 640])\n",
            "###\n",
            "torch.Size([2, 19, 480, 640])\n",
            "###\n",
            "torch.Size([2, 19, 480, 640])\n"
          ]
        },
        {
          "output_type": "stream",
          "name": "stderr",
          "text": [
            "\n",
            "epoch 0, lr 0.010000:   4%|▍         | 64/1572 [00:32<09:02,  2.78it/s, loss=0.000723]\u001b[A\n",
            "epoch 0, lr 0.010000:   4%|▍         | 64/1572 [00:32<09:02,  2.78it/s, loss=0.000608]\u001b[A"
          ]
        },
        {
          "output_type": "stream",
          "name": "stdout",
          "text": [
            "###\n",
            "torch.Size([2, 480, 640])\n",
            "###\n",
            "torch.Size([2, 19, 480, 640])\n",
            "###\n",
            "torch.Size([2, 19, 480, 640])\n"
          ]
        },
        {
          "output_type": "stream",
          "name": "stderr",
          "text": [
            "\n",
            "epoch 0, lr 0.010000:   4%|▍         | 66/1572 [00:33<11:14,  2.23it/s, loss=0.000608]\u001b[A\n",
            "epoch 0, lr 0.010000:   4%|▍         | 66/1572 [00:33<11:14,  2.23it/s, loss=0.000548]\u001b[A"
          ]
        },
        {
          "output_type": "stream",
          "name": "stdout",
          "text": [
            "###\n",
            "torch.Size([2, 480, 640])\n",
            "###\n",
            "torch.Size([2, 19, 480, 640])\n",
            "###\n",
            "torch.Size([2, 19, 480, 640])\n",
            "###\n",
            "torch.Size([2, 480, 640])\n",
            "###\n",
            "torch.Size([2, 19, 480, 640])\n",
            "###\n",
            "torch.Size([2, 19, 480, 640])\n"
          ]
        },
        {
          "output_type": "stream",
          "name": "stderr",
          "text": [
            "\n",
            "epoch 0, lr 0.010000:   4%|▍         | 68/1572 [00:33<08:26,  2.97it/s, loss=0.000548]\u001b[A\n",
            "epoch 0, lr 0.010000:   4%|▍         | 68/1572 [00:33<08:26,  2.97it/s, loss=0.000525]\u001b[A\n",
            "epoch 0, lr 0.010000:   4%|▍         | 70/1572 [00:35<10:59,  2.28it/s, loss=0.000525]\u001b[A\n",
            "epoch 0, lr 0.010000:   4%|▍         | 70/1572 [00:35<10:59,  2.28it/s, loss=0.000480]\u001b[A\n",
            "epoch 0, lr 0.010000:   5%|▍         | 72/1572 [00:35<08:09,  3.07it/s, loss=0.000480]\u001b[A\n"
          ]
        },
        {
          "output_type": "stream",
          "name": "stdout",
          "text": [
            "###\n",
            "torch.Size([2, 480, 640])\n",
            "###\n",
            "torch.Size([2, 19, 480, 640])\n",
            "###\n",
            "torch.Size([2, 19, 480, 640])\n",
            "###\n",
            "torch.Size([2, 480, 640])\n",
            "###\n",
            "torch.Size([2, 19, 480, 640])\n",
            "###\n",
            "torch.Size([2, 19, 480, 640])\n"
          ]
        },
        {
          "output_type": "stream",
          "name": "stderr",
          "text": [
            "epoch 0, lr 0.010000:   5%|▍         | 72/1572 [00:35<08:09,  3.07it/s, loss=0.000468]\u001b[A\n",
            "epoch 0, lr 0.010000:   5%|▍         | 74/1572 [00:37<13:21,  1.87it/s, loss=0.000468]\u001b[A\n",
            "epoch 0, lr 0.010000:   5%|▍         | 74/1572 [00:37<13:21,  1.87it/s, loss=0.000552]\u001b[A"
          ]
        },
        {
          "output_type": "stream",
          "name": "stdout",
          "text": [
            "###\n",
            "torch.Size([2, 480, 640])\n",
            "###\n",
            "torch.Size([2, 19, 480, 640])\n",
            "###\n",
            "torch.Size([2, 19, 480, 640])\n"
          ]
        },
        {
          "output_type": "stream",
          "name": "stderr",
          "text": [
            "\n",
            "epoch 0, lr 0.010000:   5%|▍         | 76/1572 [00:37<10:13,  2.44it/s, loss=0.000552]\u001b[A\n",
            "epoch 0, lr 0.010000:   5%|▍         | 76/1572 [00:37<10:13,  2.44it/s, loss=0.000416]\u001b[A"
          ]
        },
        {
          "output_type": "stream",
          "name": "stdout",
          "text": [
            "###\n",
            "torch.Size([2, 480, 640])\n",
            "###\n",
            "torch.Size([2, 19, 480, 640])\n",
            "###\n",
            "torch.Size([2, 19, 480, 640])\n"
          ]
        },
        {
          "output_type": "stream",
          "name": "stderr",
          "text": [
            "\n",
            "epoch 0, lr 0.010000:   5%|▍         | 78/1572 [00:39<15:59,  1.56it/s, loss=0.000416]\u001b[A\n",
            "epoch 0, lr 0.010000:   5%|▍         | 78/1572 [00:39<15:59,  1.56it/s, loss=0.000384]\u001b[A"
          ]
        },
        {
          "output_type": "stream",
          "name": "stdout",
          "text": [
            "###\n",
            "torch.Size([2, 480, 640])\n",
            "###\n",
            "torch.Size([2, 19, 480, 640])\n",
            "###\n",
            "torch.Size([2, 19, 480, 640])\n"
          ]
        },
        {
          "output_type": "stream",
          "name": "stderr",
          "text": [
            "\n",
            "epoch 0, lr 0.010000:   5%|▌         | 80/1572 [00:40<12:05,  2.06it/s, loss=0.000384]\u001b[A\n",
            "epoch 0, lr 0.010000:   5%|▌         | 80/1572 [00:40<12:05,  2.06it/s, loss=0.000378]\u001b[A"
          ]
        },
        {
          "output_type": "stream",
          "name": "stdout",
          "text": [
            "###\n",
            "torch.Size([2, 480, 640])\n",
            "###\n",
            "torch.Size([2, 19, 480, 640])\n",
            "###\n",
            "torch.Size([2, 19, 480, 640])\n"
          ]
        },
        {
          "output_type": "stream",
          "name": "stderr",
          "text": [
            "\n",
            "epoch 0, lr 0.010000:   5%|▌         | 82/1572 [00:42<18:12,  1.36it/s, loss=0.000378]\u001b[A\n",
            "epoch 0, lr 0.010000:   5%|▌         | 82/1572 [00:42<18:12,  1.36it/s, loss=0.000349]\u001b[A"
          ]
        },
        {
          "output_type": "stream",
          "name": "stdout",
          "text": [
            "###\n",
            "torch.Size([2, 480, 640])\n",
            "###\n",
            "torch.Size([2, 19, 480, 640])\n",
            "###\n",
            "torch.Size([2, 19, 480, 640])\n"
          ]
        },
        {
          "output_type": "stream",
          "name": "stderr",
          "text": [
            "\n",
            "epoch 0, lr 0.010000:   5%|▌         | 84/1572 [00:43<13:32,  1.83it/s, loss=0.000349]\u001b[A\n",
            "epoch 0, lr 0.010000:   5%|▌         | 84/1572 [00:43<13:32,  1.83it/s, loss=0.000343]\u001b[A"
          ]
        },
        {
          "output_type": "stream",
          "name": "stdout",
          "text": [
            "###\n",
            "torch.Size([2, 480, 640])\n",
            "###\n",
            "torch.Size([2, 19, 480, 640])\n",
            "###\n",
            "torch.Size([2, 19, 480, 640])\n"
          ]
        },
        {
          "output_type": "stream",
          "name": "stderr",
          "text": [
            "\n",
            "epoch 0, lr 0.010000:   5%|▌         | 86/1572 [00:44<15:02,  1.65it/s, loss=0.000343]\u001b[A\n",
            "epoch 0, lr 0.010000:   5%|▌         | 86/1572 [00:44<15:02,  1.65it/s, loss=0.000349]\u001b[A"
          ]
        },
        {
          "output_type": "stream",
          "name": "stdout",
          "text": [
            "###\n",
            "torch.Size([2, 480, 640])\n",
            "###\n",
            "torch.Size([2, 19, 480, 640])\n",
            "###\n",
            "torch.Size([2, 19, 480, 640])\n",
            "###\n",
            "torch.Size([2, 480, 640])\n",
            "###\n",
            "torch.Size([2, 19, 480, 640])\n",
            "###\n",
            "torch.Size([2, 19, 480, 640])\n"
          ]
        },
        {
          "output_type": "stream",
          "name": "stderr",
          "text": [
            "\n",
            "epoch 0, lr 0.010000:   6%|▌         | 88/1572 [00:44<11:08,  2.22it/s, loss=0.000349]\u001b[A\n",
            "epoch 0, lr 0.010000:   6%|▌         | 88/1572 [00:44<11:08,  2.22it/s, loss=0.000323]\u001b[A\n",
            "epoch 0, lr 0.010000:   6%|▌         | 90/1572 [00:46<13:26,  1.84it/s, loss=0.000323]\u001b[A\n",
            "epoch 0, lr 0.010000:   6%|▌         | 90/1572 [00:46<13:26,  1.84it/s, loss=0.000325]\u001b[A"
          ]
        },
        {
          "output_type": "stream",
          "name": "stdout",
          "text": [
            "###\n",
            "torch.Size([2, 480, 640])\n",
            "###\n",
            "torch.Size([2, 19, 480, 640])\n",
            "###\n",
            "torch.Size([2, 19, 480, 640])\n",
            "###\n",
            "torch.Size([2, 480, 640])\n",
            "###\n",
            "torch.Size([2, 19, 480, 640])\n",
            "###\n",
            "torch.Size([2, 19, 480, 640])\n"
          ]
        },
        {
          "output_type": "stream",
          "name": "stderr",
          "text": [
            "\n",
            "epoch 0, lr 0.010000:   6%|▌         | 92/1572 [00:46<10:01,  2.46it/s, loss=0.000325]\u001b[A\n",
            "epoch 0, lr 0.010000:   6%|▌         | 92/1572 [00:46<10:01,  2.46it/s, loss=0.000308]\u001b[A\n",
            "epoch 0, lr 0.010000:   6%|▌         | 94/1572 [00:47<12:29,  1.97it/s, loss=0.000308]\u001b[A\n",
            "epoch 0, lr 0.010000:   6%|▌         | 94/1572 [00:47<12:29,  1.97it/s, loss=0.000394]\u001b[A"
          ]
        },
        {
          "output_type": "stream",
          "name": "stdout",
          "text": [
            "###\n",
            "torch.Size([2, 480, 640])\n",
            "###\n",
            "torch.Size([2, 19, 480, 640])\n",
            "###\n",
            "torch.Size([2, 19, 480, 640])\n",
            "###\n",
            "torch.Size([2, 480, 640])\n",
            "###\n",
            "torch.Size([2, 19, 480, 640])\n",
            "###\n",
            "torch.Size([2, 19, 480, 640])\n"
          ]
        },
        {
          "output_type": "stream",
          "name": "stderr",
          "text": [
            "\n",
            "epoch 0, lr 0.010000:   6%|▌         | 96/1572 [00:48<09:24,  2.62it/s, loss=0.000394]\u001b[A\n",
            "epoch 0, lr 0.010000:   6%|▌         | 96/1572 [00:48<09:24,  2.62it/s, loss=0.000288]\u001b[A\n",
            "epoch 0, lr 0.010000:   6%|▌         | 98/1572 [00:49<11:26,  2.15it/s, loss=0.000288]\u001b[A\n",
            "epoch 0, lr 0.010000:   6%|▌         | 98/1572 [00:49<11:26,  2.15it/s, loss=0.000292]\u001b[A"
          ]
        },
        {
          "output_type": "stream",
          "name": "stdout",
          "text": [
            "###\n",
            "torch.Size([2, 480, 640])\n",
            "###\n",
            "torch.Size([2, 19, 480, 640])\n",
            "###\n",
            "torch.Size([2, 19, 480, 640])\n",
            "###\n",
            "torch.Size([2, 480, 640])\n",
            "###\n",
            "torch.Size([2, 19, 480, 640])\n",
            "###\n",
            "torch.Size([2, 19, 480, 640])\n"
          ]
        },
        {
          "output_type": "stream",
          "name": "stderr",
          "text": [
            "\n",
            "epoch 0, lr 0.010000:   6%|▋         | 100/1572 [00:49<08:37,  2.84it/s, loss=0.000292]\u001b[A\n",
            "epoch 0, lr 0.010000:   6%|▋         | 100/1572 [00:49<08:37,  2.84it/s, loss=0.000276]\u001b[A\n",
            "epoch 0, lr 0.010000:   6%|▋         | 102/1572 [00:50<10:56,  2.24it/s, loss=0.000276]\u001b[A\n",
            "epoch 0, lr 0.010000:   6%|▋         | 102/1572 [00:50<10:56,  2.24it/s, loss=0.000289]\u001b[A"
          ]
        },
        {
          "output_type": "stream",
          "name": "stdout",
          "text": [
            "###\n",
            "torch.Size([2, 480, 640])\n",
            "###\n",
            "torch.Size([2, 19, 480, 640])\n",
            "###\n",
            "torch.Size([2, 19, 480, 640])\n",
            "###\n"
          ]
        },
        {
          "output_type": "stream",
          "name": "stderr",
          "text": [
            "\n",
            "epoch 0, lr 0.010000:   7%|▋         | 104/1572 [00:51<08:22,  2.92it/s, loss=0.000289]\u001b[A\n",
            "epoch 0, lr 0.010000:   7%|▋         | 104/1572 [00:51<08:22,  2.92it/s, loss=0.000276]\u001b[A"
          ]
        },
        {
          "output_type": "stream",
          "name": "stdout",
          "text": [
            "torch.Size([2, 480, 640])\n",
            "###\n",
            "torch.Size([2, 19, 480, 640])\n",
            "###\n",
            "torch.Size([2, 19, 480, 640])\n"
          ]
        },
        {
          "output_type": "stream",
          "name": "stderr",
          "text": [
            "\n",
            "epoch 0, lr 0.010000:   7%|▋         | 106/1572 [00:52<11:11,  2.18it/s, loss=0.000276]\u001b[A\n",
            "epoch 0, lr 0.010000:   7%|▋         | 106/1572 [00:52<11:11,  2.18it/s, loss=0.000264]\u001b[A"
          ]
        },
        {
          "output_type": "stream",
          "name": "stdout",
          "text": [
            "###\n",
            "torch.Size([2, 480, 640])\n",
            "###\n",
            "torch.Size([2, 19, 480, 640])\n",
            "###\n",
            "torch.Size([2, 19, 480, 640])\n",
            "###\n",
            "torch.Size([2, 480, 640])\n",
            "###\n",
            "torch.Size([2, 19, 480, 640])\n",
            "###\n",
            "torch.Size([2, 19, 480, 640])\n"
          ]
        },
        {
          "output_type": "stream",
          "name": "stderr",
          "text": [
            "\n",
            "epoch 0, lr 0.010000:   7%|▋         | 108/1572 [00:52<08:22,  2.91it/s, loss=0.000264]\u001b[A\n",
            "epoch 0, lr 0.010000:   7%|▋         | 108/1572 [00:52<08:22,  2.91it/s, loss=0.000271]\u001b[A\n",
            "epoch 0, lr 0.010000:   7%|▋         | 110/1572 [00:55<14:19,  1.70it/s, loss=0.000271]\u001b[A\n",
            "epoch 0, lr 0.010000:   7%|▋         | 110/1572 [00:55<14:19,  1.70it/s, loss=0.000266]\u001b[A"
          ]
        },
        {
          "output_type": "stream",
          "name": "stdout",
          "text": [
            "###\n",
            "torch.Size([2, 480, 640])\n",
            "###\n",
            "torch.Size([2, 19, 480, 640])\n",
            "###\n",
            "torch.Size([2, 19, 480, 640])\n"
          ]
        },
        {
          "output_type": "stream",
          "name": "stderr",
          "text": [
            "\n",
            "epoch 0, lr 0.010000:   7%|▋         | 112/1572 [00:55<10:52,  2.24it/s, loss=0.000266]\u001b[A\n",
            "epoch 0, lr 0.010000:   7%|▋         | 112/1572 [00:55<10:52,  2.24it/s, loss=0.000264]\u001b[A"
          ]
        },
        {
          "output_type": "stream",
          "name": "stdout",
          "text": [
            "###\n",
            "torch.Size([2, 480, 640])\n",
            "###\n",
            "torch.Size([2, 19, 480, 640])\n",
            "###\n",
            "torch.Size([2, 19, 480, 640])\n"
          ]
        },
        {
          "output_type": "stream",
          "name": "stderr",
          "text": [
            "\n",
            "epoch 0, lr 0.010000:   7%|▋         | 114/1572 [00:57<15:58,  1.52it/s, loss=0.000264]\u001b[A\n",
            "epoch 0, lr 0.010000:   7%|▋         | 114/1572 [00:57<15:58,  1.52it/s, loss=0.000256]\u001b[A"
          ]
        },
        {
          "output_type": "stream",
          "name": "stdout",
          "text": [
            "###\n",
            "torch.Size([2, 480, 640])\n",
            "###\n",
            "torch.Size([2, 19, 480, 640])\n",
            "###\n",
            "torch.Size([2, 19, 480, 640])\n"
          ]
        },
        {
          "output_type": "stream",
          "name": "stderr",
          "text": [
            "\n",
            "epoch 0, lr 0.010000:   7%|▋         | 116/1572 [00:57<12:05,  2.01it/s, loss=0.000256]\u001b[A\n",
            "epoch 0, lr 0.010000:   7%|▋         | 116/1572 [00:57<12:05,  2.01it/s, loss=0.000263]\u001b[A"
          ]
        },
        {
          "output_type": "stream",
          "name": "stdout",
          "text": [
            "###\n",
            "torch.Size([2, 480, 640])\n",
            "###\n",
            "torch.Size([2, 19, 480, 640])\n",
            "###\n",
            "torch.Size([2, 19, 480, 640])\n"
          ]
        },
        {
          "output_type": "stream",
          "name": "stderr",
          "text": [
            "\n",
            "epoch 0, lr 0.010000:   8%|▊         | 118/1572 [01:00<16:37,  1.46it/s, loss=0.000263]\u001b[A\n",
            "epoch 0, lr 0.010000:   8%|▊         | 118/1572 [01:00<16:37,  1.46it/s, loss=0.000248]\u001b[A"
          ]
        },
        {
          "output_type": "stream",
          "name": "stdout",
          "text": [
            "###\n",
            "torch.Size([2, 480, 640])\n",
            "###\n",
            "torch.Size([2, 19, 480, 640])\n",
            "###\n",
            "torch.Size([2, 19, 480, 640])\n"
          ]
        },
        {
          "output_type": "stream",
          "name": "stderr",
          "text": [
            "\n",
            "epoch 0, lr 0.010000:   8%|▊         | 120/1572 [01:00<12:19,  1.96it/s, loss=0.000248]\u001b[A\n",
            "epoch 0, lr 0.010000:   8%|▊         | 120/1572 [01:00<12:19,  1.96it/s, loss=0.000255]\u001b[A"
          ]
        },
        {
          "output_type": "stream",
          "name": "stdout",
          "text": [
            "###\n",
            "torch.Size([2, 480, 640])\n",
            "###\n",
            "torch.Size([2, 19, 480, 640])\n",
            "###\n",
            "torch.Size([2, 19, 480, 640])\n"
          ]
        },
        {
          "output_type": "stream",
          "name": "stderr",
          "text": [
            "\n",
            "epoch 0, lr 0.010000:   8%|▊         | 122/1572 [01:01<14:06,  1.71it/s, loss=0.000255]\u001b[A\n",
            "epoch 0, lr 0.010000:   8%|▊         | 122/1572 [01:01<14:06,  1.71it/s, loss=0.002216]\u001b[A"
          ]
        },
        {
          "output_type": "stream",
          "name": "stdout",
          "text": [
            "###\n",
            "torch.Size([2, 480, 640])\n",
            "###\n",
            "torch.Size([2, 19, 480, 640])\n",
            "###\n",
            "torch.Size([2, 19, 480, 640])\n",
            "###\n",
            "torch.Size([2, 480, 640])\n",
            "###\n",
            "torch.Size([2, 19, 480, 640])\n",
            "###\n",
            "torch.Size([2, 19, 480, 640])\n"
          ]
        },
        {
          "output_type": "stream",
          "name": "stderr",
          "text": [
            "\n",
            "epoch 0, lr 0.010000:   8%|▊         | 124/1572 [01:01<10:24,  2.32it/s, loss=0.002216]\u001b[A\n",
            "epoch 0, lr 0.010000:   8%|▊         | 124/1572 [01:01<10:24,  2.32it/s, loss=0.000259]\u001b[A\n",
            "epoch 0, lr 0.010000:   8%|▊         | 126/1572 [01:03<12:22,  1.95it/s, loss=0.000259]\u001b[A\n",
            "epoch 0, lr 0.010000:   8%|▊         | 126/1572 [01:03<12:22,  1.95it/s, loss=0.000264]\u001b[A"
          ]
        },
        {
          "output_type": "stream",
          "name": "stdout",
          "text": [
            "###\n",
            "torch.Size([2, 480, 640])\n",
            "###\n",
            "torch.Size([2, 19, 480, 640])\n",
            "###\n",
            "torch.Size([2, 19, 480, 640])\n",
            "###\n",
            "torch.Size([2, 480, 640])\n",
            "###\n",
            "torch.Size([2, 19, 480, 640])\n",
            "###\n",
            "torch.Size([2, 19, 480, 640])\n"
          ]
        },
        {
          "output_type": "stream",
          "name": "stderr",
          "text": [
            "\n",
            "epoch 0, lr 0.010000:   8%|▊         | 128/1572 [01:03<09:12,  2.61it/s, loss=0.000264]\u001b[A\n",
            "epoch 0, lr 0.010000:   8%|▊         | 128/1572 [01:03<09:12,  2.61it/s, loss=0.000261]\u001b[A\n",
            "epoch 0, lr 0.010000:   8%|▊         | 130/1572 [01:05<12:03,  1.99it/s, loss=0.000261]\u001b[A\n",
            "epoch 0, lr 0.010000:   8%|▊         | 130/1572 [01:05<12:03,  1.99it/s, loss=0.000268]\u001b[A"
          ]
        },
        {
          "output_type": "stream",
          "name": "stdout",
          "text": [
            "###\n",
            "torch.Size([2, 480, 640])\n",
            "###\n",
            "torch.Size([2, 19, 480, 640])\n",
            "###\n",
            "torch.Size([2, 19, 480, 640])\n",
            "###\n",
            "torch.Size([2, 480, 640])\n",
            "###\n",
            "torch.Size([2, 19, 480, 640])\n",
            "###\n",
            "torch.Size([2, 19, 480, 640])\n"
          ]
        },
        {
          "output_type": "stream",
          "name": "stderr",
          "text": [
            "\n",
            "epoch 0, lr 0.010000:   8%|▊         | 132/1572 [01:05<09:00,  2.67it/s, loss=0.000268]\u001b[A\n",
            "epoch 0, lr 0.010000:   8%|▊         | 132/1572 [01:05<09:00,  2.67it/s, loss=0.000289]\u001b[A\n",
            "epoch 0, lr 0.010000:   9%|▊         | 134/1572 [01:06<11:35,  2.07it/s, loss=0.000289]\u001b[A\n",
            "epoch 0, lr 0.010000:   9%|▊         | 134/1572 [01:06<11:35,  2.07it/s, loss=0.000257]\u001b[A"
          ]
        },
        {
          "output_type": "stream",
          "name": "stdout",
          "text": [
            "###\n",
            "torch.Size([2, 480, 640])\n",
            "###\n",
            "torch.Size([2, 19, 480, 640])\n",
            "###\n",
            "torch.Size([2, 19, 480, 640])\n",
            "###\n",
            "torch.Size([2, 480, 640])\n",
            "###\n",
            "torch.Size([2, 19, 480, 640])"
          ]
        },
        {
          "output_type": "stream",
          "name": "stderr",
          "text": [
            "\n",
            "epoch 0, lr 0.010000:   9%|▊         | 136/1572 [01:06<08:41,  2.75it/s, loss=0.000257]\u001b[A\n",
            "epoch 0, lr 0.010000:   9%|▊         | 136/1572 [01:06<08:41,  2.75it/s, loss=0.000284]\u001b[A"
          ]
        },
        {
          "output_type": "stream",
          "name": "stdout",
          "text": [
            "\n",
            "###\n",
            "torch.Size([2, 19, 480, 640])\n"
          ]
        },
        {
          "output_type": "stream",
          "name": "stderr",
          "text": [
            "\n",
            "epoch 0, lr 0.010000:   9%|▉         | 138/1572 [01:08<11:10,  2.14it/s, loss=0.000284]\u001b[A\n",
            "epoch 0, lr 0.010000:   9%|▉         | 138/1572 [01:08<11:10,  2.14it/s, loss=0.000271]\u001b[A"
          ]
        },
        {
          "output_type": "stream",
          "name": "stdout",
          "text": [
            "###\n",
            "torch.Size([2, 480, 640])\n",
            "###\n",
            "torch.Size([2, 19, 480, 640])\n",
            "###\n",
            "torch.Size([2, 19, 480, 640])\n",
            "###\n",
            "torch.Size([2, 480, 640])\n",
            "###\n",
            "torch.Size([2, 19, 480, 640])\n",
            "###\n",
            "torch.Size([2, 19, 480, 640])\n"
          ]
        },
        {
          "output_type": "stream",
          "name": "stderr",
          "text": [
            "\n",
            "epoch 0, lr 0.010000:   9%|▉         | 140/1572 [01:08<08:24,  2.84it/s, loss=0.000271]\u001b[A\n",
            "epoch 0, lr 0.010000:   9%|▉         | 140/1572 [01:08<08:24,  2.84it/s, loss=0.000257]\u001b[A\n",
            "epoch 0, lr 0.010000:   9%|▉         | 142/1572 [01:10<11:58,  1.99it/s, loss=0.000257]\u001b[A\n",
            "epoch 0, lr 0.010000:   9%|▉         | 142/1572 [01:10<11:58,  1.99it/s, loss=0.000281]\u001b[A"
          ]
        },
        {
          "output_type": "stream",
          "name": "stdout",
          "text": [
            "###\n",
            "torch.Size([2, 480, 640])\n",
            "###\n",
            "torch.Size([2, 19, 480, 640])\n",
            "###\n",
            "torch.Size([2, 19, 480, 640])\n",
            "###\n",
            "torch.Size([2, 480, 640])\n",
            "###\n",
            "torch.Size([2, 19, 480, 640])\n",
            "###\n",
            "torch.Size([2, 19, 480, 640])\n"
          ]
        },
        {
          "output_type": "stream",
          "name": "stderr",
          "text": [
            "\n",
            "epoch 0, lr 0.010000:   9%|▉         | 144/1572 [01:10<09:03,  2.63it/s, loss=0.000281]\u001b[A\n",
            "epoch 0, lr 0.010000:   9%|▉         | 144/1572 [01:10<09:03,  2.63it/s, loss=0.000251]\u001b[A\n",
            "epoch 0, lr 0.010000:   9%|▉         | 146/1572 [01:12<15:01,  1.58it/s, loss=0.000251]\u001b[A\n",
            "epoch 0, lr 0.010000:   9%|▉         | 146/1572 [01:12<15:01,  1.58it/s, loss=0.000271]\u001b[A"
          ]
        },
        {
          "output_type": "stream",
          "name": "stdout",
          "text": [
            "###\n",
            "torch.Size([2, 480, 640])\n",
            "###\n",
            "torch.Size([2, 19, 480, 640])\n",
            "###\n",
            "torch.Size([2, 19, 480, 640])\n"
          ]
        },
        {
          "output_type": "stream",
          "name": "stderr",
          "text": [
            "\n",
            "epoch 0, lr 0.010000:   9%|▉         | 148/1572 [01:13<11:16,  2.10it/s, loss=0.000271]\u001b[A\n",
            "epoch 0, lr 0.010000:   9%|▉         | 148/1572 [01:13<11:16,  2.10it/s, loss=0.000266]\u001b[A"
          ]
        },
        {
          "output_type": "stream",
          "name": "stdout",
          "text": [
            "###\n",
            "torch.Size([2, 480, 640])\n",
            "###\n",
            "torch.Size([2, 19, 480, 640])\n",
            "###\n",
            "torch.Size([2, 19, 480, 640])\n"
          ]
        },
        {
          "output_type": "stream",
          "name": "stderr",
          "text": [
            "\n",
            "epoch 0, lr 0.010000:  10%|▉         | 150/1572 [01:15<16:43,  1.42it/s, loss=0.000266]\u001b[A\n",
            "epoch 0, lr 0.010000:  10%|▉         | 150/1572 [01:15<16:43,  1.42it/s, loss=0.000268]\u001b[A"
          ]
        },
        {
          "output_type": "stream",
          "name": "stdout",
          "text": [
            "###\n",
            "torch.Size([2, 480, 640])\n",
            "###\n",
            "torch.Size([2, 19, 480, 640])\n",
            "###\n",
            "torch.Size([2, 19, 480, 640])\n"
          ]
        },
        {
          "output_type": "stream",
          "name": "stderr",
          "text": [
            "\n",
            "epoch 0, lr 0.010000:  10%|▉         | 152/1572 [01:15<12:30,  1.89it/s, loss=0.000268]\u001b[A\n",
            "epoch 0, lr 0.010000:  10%|▉         | 152/1572 [01:15<12:30,  1.89it/s, loss=0.000233]\u001b[A"
          ]
        },
        {
          "output_type": "stream",
          "name": "stdout",
          "text": [
            "###\n",
            "torch.Size([2, 480, 640])\n",
            "###\n",
            "torch.Size([2, 19, 480, 640])\n",
            "###\n",
            "torch.Size([2, 19, 480, 640])\n"
          ]
        },
        {
          "output_type": "stream",
          "name": "stderr",
          "text": [
            "\n",
            "epoch 0, lr 0.010000:  10%|▉         | 154/1572 [01:17<15:02,  1.57it/s, loss=0.000233]\u001b[A\n",
            "epoch 0, lr 0.010000:  10%|▉         | 154/1572 [01:17<15:02,  1.57it/s, loss=0.000258]\u001b[A"
          ]
        },
        {
          "output_type": "stream",
          "name": "stdout",
          "text": [
            "###\n",
            "torch.Size([2, 480, 640])\n",
            "###\n",
            "torch.Size([2, 19, 480, 640])\n",
            "###\n",
            "torch.Size([2, 19, 480, 640])\n",
            "###\n",
            "torch.Size([2, 480, 640])\n",
            "###\n",
            "torch.Size([2, 19, 480, 640])\n",
            "###\n",
            "torch.Size([2, 19, 480, 640])\n"
          ]
        },
        {
          "output_type": "stream",
          "name": "stderr",
          "text": [
            "\n",
            "epoch 0, lr 0.010000:  10%|▉         | 156/1572 [01:17<11:03,  2.13it/s, loss=0.000258]\u001b[A\n",
            "epoch 0, lr 0.010000:  10%|▉         | 156/1572 [01:17<11:03,  2.13it/s, loss=0.000272]\u001b[A\n",
            "epoch 0, lr 0.010000:  10%|█         | 158/1572 [01:19<12:30,  1.89it/s, loss=0.000272]\u001b[A\n",
            "epoch 0, lr 0.010000:  10%|█         | 158/1572 [01:19<12:30,  1.89it/s, loss=0.000238]\u001b[A"
          ]
        },
        {
          "output_type": "stream",
          "name": "stdout",
          "text": [
            "###\n",
            "torch.Size([2, 480, 640])\n",
            "###\n",
            "torch.Size([2, 19, 480, 640])\n",
            "###\n",
            "torch.Size([2, 19, 480, 640])\n",
            "###\n",
            "torch.Size([2, 480, 640])\n",
            "###\n",
            "torch.Size([2, 19, 480, 640])\n",
            "###\n",
            "torch.Size([2, 19, 480, 640])\n"
          ]
        },
        {
          "output_type": "stream",
          "name": "stderr",
          "text": [
            "\n",
            "epoch 0, lr 0.010000:  10%|█         | 160/1572 [01:19<09:15,  2.54it/s, loss=0.000238]\u001b[A\n",
            "epoch 0, lr 0.010000:  10%|█         | 160/1572 [01:19<09:15,  2.54it/s, loss=0.000262]\u001b[A\n",
            "epoch 0, lr 0.010000:  10%|█         | 162/1572 [01:20<11:45,  2.00it/s, loss=0.000262]\u001b[A\n",
            "epoch 0, lr 0.010000:  10%|█         | 162/1572 [01:20<11:45,  2.00it/s, loss=0.000233]\u001b[A"
          ]
        },
        {
          "output_type": "stream",
          "name": "stdout",
          "text": [
            "###\n",
            "torch.Size([2, 480, 640])\n",
            "###\n",
            "torch.Size([2, 19, 480, 640])\n",
            "###\n",
            "torch.Size([2, 19, 480, 640])\n",
            "###\n",
            "torch.Size([2, 480, 640])\n",
            "###\n",
            "torch.Size([2, 19, 480, 640])\n",
            "###\n",
            "torch.Size([2, 19, 480, 640])\n"
          ]
        },
        {
          "output_type": "stream",
          "name": "stderr",
          "text": [
            "\n",
            "epoch 0, lr 0.010000:  10%|█         | 164/1572 [01:20<08:45,  2.68it/s, loss=0.000233]\u001b[A\n",
            "epoch 0, lr 0.010000:  10%|█         | 164/1572 [01:20<08:45,  2.68it/s, loss=0.000254]\u001b[A\n",
            "epoch 0, lr 0.010000:  11%|█         | 166/1572 [01:22<10:57,  2.14it/s, loss=0.000254]\u001b[A\n",
            "epoch 0, lr 0.010000:  11%|█         | 166/1572 [01:22<10:57,  2.14it/s, loss=0.000244]\u001b[A"
          ]
        },
        {
          "output_type": "stream",
          "name": "stdout",
          "text": [
            "###\n",
            "torch.Size([2, 480, 640])\n",
            "###\n",
            "torch.Size([2, 19, 480, 640])\n",
            "###\n",
            "torch.Size([2, 19, 480, 640])\n",
            "###\n",
            "torch.Size([2, 480, 640])\n",
            "###\n",
            "torch.Size([2, 19, 480, 640])\n",
            "###\n",
            "torch.Size([2, 19, 480, 640])\n"
          ]
        },
        {
          "output_type": "stream",
          "name": "stderr",
          "text": [
            "\n",
            "epoch 0, lr 0.010000:  11%|█         | 168/1572 [01:22<08:15,  2.84it/s, loss=0.000244]\u001b[A\n",
            "epoch 0, lr 0.010000:  11%|█         | 168/1572 [01:22<08:15,  2.84it/s, loss=0.000250]\u001b[A\n",
            "epoch 0, lr 0.010000:  11%|█         | 170/1572 [01:23<10:47,  2.17it/s, loss=0.000250]\u001b[A\n",
            "epoch 0, lr 0.010000:  11%|█         | 170/1572 [01:23<10:47,  2.17it/s, loss=0.000258]\u001b[A"
          ]
        },
        {
          "output_type": "stream",
          "name": "stdout",
          "text": [
            "###\n",
            "torch.Size([2, 480, 640])\n",
            "###\n",
            "torch.Size([2, 19, 480, 640])\n",
            "###\n",
            "torch.Size([2, 19, 480, 640])\n",
            "###\n",
            "torch.Size([2, 480, 640])\n",
            "###\n",
            "torch.Size([2, 19, 480, 640])\n",
            "###\n",
            "torch.Size([2, 19, 480, 640])\n"
          ]
        },
        {
          "output_type": "stream",
          "name": "stderr",
          "text": [
            "\n",
            "epoch 0, lr 0.010000:  11%|█         | 172/1572 [01:23<08:07,  2.87it/s, loss=0.000258]\u001b[A\n",
            "epoch 0, lr 0.010000:  11%|█         | 172/1572 [01:23<08:07,  2.87it/s, loss=0.000250]\u001b[A\n",
            "epoch 0, lr 0.010000:  11%|█         | 174/1572 [01:25<10:00,  2.33it/s, loss=0.000250]\u001b[A\n",
            "epoch 0, lr 0.010000:  11%|█         | 174/1572 [01:25<10:00,  2.33it/s, loss=0.000253]\u001b[A"
          ]
        },
        {
          "output_type": "stream",
          "name": "stdout",
          "text": [
            "###\n",
            "torch.Size([2, 480, 640])\n",
            "###\n",
            "torch.Size([2, 19, 480, 640])\n",
            "###\n",
            "torch.Size([2, 19, 480, 640])\n",
            "###\n",
            "torch.Size([2, 480, 640])\n",
            "###\n",
            "torch.Size([2, 19, 480, 640])\n",
            "###\n",
            "torch.Size([2, 19, 480, 640])\n"
          ]
        },
        {
          "output_type": "stream",
          "name": "stderr",
          "text": [
            "\n",
            "epoch 0, lr 0.010000:  11%|█         | 176/1572 [01:25<07:33,  3.08it/s, loss=0.000253]\u001b[A\n",
            "epoch 0, lr 0.010000:  11%|█         | 176/1572 [01:25<07:33,  3.08it/s, loss=0.000267]\u001b[A\n",
            "epoch 0, lr 0.010000:  11%|█▏        | 178/1572 [01:27<11:52,  1.96it/s, loss=0.000267]\u001b[A\n",
            "epoch 0, lr 0.010000:  11%|█▏        | 178/1572 [01:27<11:52,  1.96it/s, loss=0.000238]\u001b[A"
          ]
        },
        {
          "output_type": "stream",
          "name": "stdout",
          "text": [
            "###\n",
            "torch.Size([2, 480, 640])\n",
            "###\n",
            "torch.Size([2, 19, 480, 640])\n",
            "###\n",
            "torch.Size([2, 19, 480, 640])\n"
          ]
        },
        {
          "output_type": "stream",
          "name": "stderr",
          "text": [
            "\n",
            "epoch 0, lr 0.010000:  11%|█▏        | 180/1572 [01:27<09:06,  2.55it/s, loss=0.000238]\u001b[A\n",
            "epoch 0, lr 0.010000:  11%|█▏        | 180/1572 [01:27<09:06,  2.55it/s, loss=0.000237]\u001b[A"
          ]
        },
        {
          "output_type": "stream",
          "name": "stdout",
          "text": [
            "###\n",
            "torch.Size([2, 480, 640])\n",
            "###\n",
            "torch.Size([2, 19, 480, 640])\n",
            "###\n",
            "torch.Size([2, 19, 480, 640])\n"
          ]
        },
        {
          "output_type": "stream",
          "name": "stderr",
          "text": [
            "\n",
            "epoch 0, lr 0.010000:  12%|█▏        | 182/1572 [01:29<14:48,  1.56it/s, loss=0.000237]\u001b[A\n",
            "epoch 0, lr 0.010000:  12%|█▏        | 182/1572 [01:29<14:48,  1.56it/s, loss=0.000314]\u001b[A"
          ]
        },
        {
          "output_type": "stream",
          "name": "stdout",
          "text": [
            "###\n",
            "torch.Size([2, 480, 640])\n",
            "###\n",
            "torch.Size([2, 19, 480, 640])\n",
            "###\n",
            "torch.Size([2, 19, 480, 640])\n"
          ]
        },
        {
          "output_type": "stream",
          "name": "stderr",
          "text": [
            "\n",
            "epoch 0, lr 0.010000:  12%|█▏        | 184/1572 [01:30<11:13,  2.06it/s, loss=0.000314]\u001b[A\n",
            "epoch 0, lr 0.010000:  12%|█▏        | 184/1572 [01:30<11:13,  2.06it/s, loss=0.000283]\u001b[A"
          ]
        },
        {
          "output_type": "stream",
          "name": "stdout",
          "text": [
            "###\n",
            "torch.Size([2, 480, 640])\n",
            "###\n",
            "torch.Size([2, 19, 480, 640])\n",
            "###\n",
            "torch.Size([2, 19, 480, 640])\n"
          ]
        },
        {
          "output_type": "error",
          "ename": "OSError",
          "evalue": "ignored",
          "traceback": [
            "\u001b[0;31m---------------------------------------------------------------------------\u001b[0m",
            "\u001b[0;31mOSError\u001b[0m                                   Traceback (most recent call last)",
            "\u001b[0;32m<ipython-input-10-b17472b29b29>\u001b[0m in \u001b[0;36m<cell line: 40>\u001b[0;34m()\u001b[0m\n\u001b[1;32m     38\u001b[0m \u001b[0;34m\u001b[0m\u001b[0m\n\u001b[1;32m     39\u001b[0m \u001b[0;31m## train loop\u001b[0m\u001b[0;34m\u001b[0m\u001b[0;34m\u001b[0m\u001b[0m\n\u001b[0;32m---> 40\u001b[0;31m \u001b[0mtrain\u001b[0m\u001b[0;34m(\u001b[0m\u001b[0mmodel\u001b[0m\u001b[0;34m,\u001b[0m \u001b[0moptimizer\u001b[0m\u001b[0;34m,\u001b[0m \u001b[0mdataloader_train\u001b[0m\u001b[0;34m,\u001b[0m \u001b[0mdataloader_val\u001b[0m\u001b[0;34m)\u001b[0m\u001b[0;34m\u001b[0m\u001b[0;34m\u001b[0m\u001b[0m\n\u001b[0m\u001b[1;32m     41\u001b[0m \u001b[0;31m# final test\u001b[0m\u001b[0;34m\u001b[0m\u001b[0;34m\u001b[0m\u001b[0m\n\u001b[1;32m     42\u001b[0m \u001b[0mval\u001b[0m\u001b[0;34m(\u001b[0m\u001b[0mmodel\u001b[0m\u001b[0;34m,\u001b[0m \u001b[0mdataloader_val\u001b[0m\u001b[0;34m)\u001b[0m\u001b[0;34m\u001b[0m\u001b[0;34m\u001b[0m\u001b[0m\n",
            "\u001b[0;32m<ipython-input-8-c4ba71ba3217>\u001b[0m in \u001b[0;36mtrain\u001b[0;34m(model, optimizer, dataloader_train, dataloader_val)\u001b[0m\n\u001b[1;32m     14\u001b[0m         \u001b[0mtq\u001b[0m\u001b[0;34m.\u001b[0m\u001b[0mset_description\u001b[0m\u001b[0;34m(\u001b[0m\u001b[0;34m'epoch %d, lr %f'\u001b[0m \u001b[0;34m%\u001b[0m \u001b[0;34m(\u001b[0m\u001b[0mepoch\u001b[0m\u001b[0;34m,\u001b[0m \u001b[0mlr\u001b[0m\u001b[0;34m)\u001b[0m\u001b[0;34m)\u001b[0m\u001b[0;34m\u001b[0m\u001b[0;34m\u001b[0m\u001b[0m\n\u001b[1;32m     15\u001b[0m         \u001b[0mloss_record\u001b[0m \u001b[0;34m=\u001b[0m \u001b[0;34m[\u001b[0m\u001b[0;34m]\u001b[0m\u001b[0;34m\u001b[0m\u001b[0;34m\u001b[0m\u001b[0m\n\u001b[0;32m---> 16\u001b[0;31m         \u001b[0;32mfor\u001b[0m \u001b[0mi\u001b[0m\u001b[0;34m,\u001b[0m \u001b[0;34m(\u001b[0m\u001b[0mdata\u001b[0m\u001b[0;34m,\u001b[0m \u001b[0mlabel\u001b[0m\u001b[0;34m)\u001b[0m \u001b[0;32min\u001b[0m \u001b[0menumerate\u001b[0m\u001b[0;34m(\u001b[0m\u001b[0mdataloader_train\u001b[0m\u001b[0;34m)\u001b[0m\u001b[0;34m:\u001b[0m\u001b[0;34m\u001b[0m\u001b[0;34m\u001b[0m\u001b[0m\n\u001b[0m\u001b[1;32m     17\u001b[0m             \u001b[0mdata\u001b[0m \u001b[0;34m=\u001b[0m \u001b[0mdata\u001b[0m\u001b[0;34m.\u001b[0m\u001b[0mcuda\u001b[0m\u001b[0;34m(\u001b[0m\u001b[0;34m)\u001b[0m\u001b[0;34m\u001b[0m\u001b[0;34m\u001b[0m\u001b[0m\n\u001b[1;32m     18\u001b[0m             \u001b[0mlabel\u001b[0m \u001b[0;34m=\u001b[0m \u001b[0mlabel\u001b[0m\u001b[0;34m.\u001b[0m\u001b[0mlong\u001b[0m\u001b[0;34m(\u001b[0m\u001b[0;34m)\u001b[0m\u001b[0;34m.\u001b[0m\u001b[0mcuda\u001b[0m\u001b[0;34m(\u001b[0m\u001b[0;34m)\u001b[0m\u001b[0;34m\u001b[0m\u001b[0;34m\u001b[0m\u001b[0m\n",
            "\u001b[0;32m/usr/local/lib/python3.10/dist-packages/torch/utils/data/dataloader.py\u001b[0m in \u001b[0;36m__next__\u001b[0;34m(self)\u001b[0m\n\u001b[1;32m    628\u001b[0m                 \u001b[0;31m# TODO(https://github.com/pytorch/pytorch/issues/76750)\u001b[0m\u001b[0;34m\u001b[0m\u001b[0;34m\u001b[0m\u001b[0m\n\u001b[1;32m    629\u001b[0m                 \u001b[0mself\u001b[0m\u001b[0;34m.\u001b[0m\u001b[0m_reset\u001b[0m\u001b[0;34m(\u001b[0m\u001b[0;34m)\u001b[0m  \u001b[0;31m# type: ignore[call-arg]\u001b[0m\u001b[0;34m\u001b[0m\u001b[0;34m\u001b[0m\u001b[0m\n\u001b[0;32m--> 630\u001b[0;31m             \u001b[0mdata\u001b[0m \u001b[0;34m=\u001b[0m \u001b[0mself\u001b[0m\u001b[0;34m.\u001b[0m\u001b[0m_next_data\u001b[0m\u001b[0;34m(\u001b[0m\u001b[0;34m)\u001b[0m\u001b[0;34m\u001b[0m\u001b[0;34m\u001b[0m\u001b[0m\n\u001b[0m\u001b[1;32m    631\u001b[0m             \u001b[0mself\u001b[0m\u001b[0;34m.\u001b[0m\u001b[0m_num_yielded\u001b[0m \u001b[0;34m+=\u001b[0m \u001b[0;36m1\u001b[0m\u001b[0;34m\u001b[0m\u001b[0;34m\u001b[0m\u001b[0m\n\u001b[1;32m    632\u001b[0m             \u001b[0;32mif\u001b[0m \u001b[0mself\u001b[0m\u001b[0;34m.\u001b[0m\u001b[0m_dataset_kind\u001b[0m \u001b[0;34m==\u001b[0m \u001b[0m_DatasetKind\u001b[0m\u001b[0;34m.\u001b[0m\u001b[0mIterable\u001b[0m \u001b[0;32mand\u001b[0m\u001b[0;31m \u001b[0m\u001b[0;31m\\\u001b[0m\u001b[0;34m\u001b[0m\u001b[0;34m\u001b[0m\u001b[0m\n",
            "\u001b[0;32m/usr/local/lib/python3.10/dist-packages/torch/utils/data/dataloader.py\u001b[0m in \u001b[0;36m_next_data\u001b[0;34m(self)\u001b[0m\n\u001b[1;32m   1343\u001b[0m             \u001b[0;32melse\u001b[0m\u001b[0;34m:\u001b[0m\u001b[0;34m\u001b[0m\u001b[0;34m\u001b[0m\u001b[0m\n\u001b[1;32m   1344\u001b[0m                 \u001b[0;32mdel\u001b[0m \u001b[0mself\u001b[0m\u001b[0;34m.\u001b[0m\u001b[0m_task_info\u001b[0m\u001b[0;34m[\u001b[0m\u001b[0midx\u001b[0m\u001b[0;34m]\u001b[0m\u001b[0;34m\u001b[0m\u001b[0;34m\u001b[0m\u001b[0m\n\u001b[0;32m-> 1345\u001b[0;31m                 \u001b[0;32mreturn\u001b[0m \u001b[0mself\u001b[0m\u001b[0;34m.\u001b[0m\u001b[0m_process_data\u001b[0m\u001b[0;34m(\u001b[0m\u001b[0mdata\u001b[0m\u001b[0;34m)\u001b[0m\u001b[0;34m\u001b[0m\u001b[0;34m\u001b[0m\u001b[0m\n\u001b[0m\u001b[1;32m   1346\u001b[0m \u001b[0;34m\u001b[0m\u001b[0m\n\u001b[1;32m   1347\u001b[0m     \u001b[0;32mdef\u001b[0m \u001b[0m_try_put_index\u001b[0m\u001b[0;34m(\u001b[0m\u001b[0mself\u001b[0m\u001b[0;34m)\u001b[0m\u001b[0;34m:\u001b[0m\u001b[0;34m\u001b[0m\u001b[0;34m\u001b[0m\u001b[0m\n",
            "\u001b[0;32m/usr/local/lib/python3.10/dist-packages/torch/utils/data/dataloader.py\u001b[0m in \u001b[0;36m_process_data\u001b[0;34m(self, data)\u001b[0m\n\u001b[1;32m   1369\u001b[0m         \u001b[0mself\u001b[0m\u001b[0;34m.\u001b[0m\u001b[0m_try_put_index\u001b[0m\u001b[0;34m(\u001b[0m\u001b[0;34m)\u001b[0m\u001b[0;34m\u001b[0m\u001b[0;34m\u001b[0m\u001b[0m\n\u001b[1;32m   1370\u001b[0m         \u001b[0;32mif\u001b[0m \u001b[0misinstance\u001b[0m\u001b[0;34m(\u001b[0m\u001b[0mdata\u001b[0m\u001b[0;34m,\u001b[0m \u001b[0mExceptionWrapper\u001b[0m\u001b[0;34m)\u001b[0m\u001b[0;34m:\u001b[0m\u001b[0;34m\u001b[0m\u001b[0;34m\u001b[0m\u001b[0m\n\u001b[0;32m-> 1371\u001b[0;31m             \u001b[0mdata\u001b[0m\u001b[0;34m.\u001b[0m\u001b[0mreraise\u001b[0m\u001b[0;34m(\u001b[0m\u001b[0;34m)\u001b[0m\u001b[0;34m\u001b[0m\u001b[0;34m\u001b[0m\u001b[0m\n\u001b[0m\u001b[1;32m   1372\u001b[0m         \u001b[0;32mreturn\u001b[0m \u001b[0mdata\u001b[0m\u001b[0;34m\u001b[0m\u001b[0;34m\u001b[0m\u001b[0m\n\u001b[1;32m   1373\u001b[0m \u001b[0;34m\u001b[0m\u001b[0m\n",
            "\u001b[0;32m/usr/local/lib/python3.10/dist-packages/torch/_utils.py\u001b[0m in \u001b[0;36mreraise\u001b[0;34m(self)\u001b[0m\n\u001b[1;32m    692\u001b[0m             \u001b[0;31m# instantiate since we don't know how to\u001b[0m\u001b[0;34m\u001b[0m\u001b[0;34m\u001b[0m\u001b[0m\n\u001b[1;32m    693\u001b[0m             \u001b[0;32mraise\u001b[0m \u001b[0mRuntimeError\u001b[0m\u001b[0;34m(\u001b[0m\u001b[0mmsg\u001b[0m\u001b[0;34m)\u001b[0m \u001b[0;32mfrom\u001b[0m \u001b[0;32mNone\u001b[0m\u001b[0;34m\u001b[0m\u001b[0;34m\u001b[0m\u001b[0m\n\u001b[0;32m--> 694\u001b[0;31m         \u001b[0;32mraise\u001b[0m \u001b[0mexception\u001b[0m\u001b[0;34m\u001b[0m\u001b[0;34m\u001b[0m\u001b[0m\n\u001b[0m\u001b[1;32m    695\u001b[0m \u001b[0;34m\u001b[0m\u001b[0m\n\u001b[1;32m    696\u001b[0m \u001b[0;34m\u001b[0m\u001b[0m\n",
            "\u001b[0;31mOSError\u001b[0m: Caught OSError in DataLoader worker process 0.\nOriginal Traceback (most recent call last):\n  File \"/usr/local/lib/python3.10/dist-packages/PIL/ImageFile.py\", line 249, in load\n    s = read(self.decodermaxblock)\n  File \"/usr/local/lib/python3.10/dist-packages/PIL/PngImagePlugin.py\", line 957, in load_read\n    cid, pos, length = self.png.read()\n  File \"/usr/local/lib/python3.10/dist-packages/PIL/PngImagePlugin.py\", line 179, in read\n    length = i32(s)\n  File \"/usr/local/lib/python3.10/dist-packages/PIL/_binary.py\", line 85, in i32be\n    return unpack_from(\">I\", c, o)[0]\nstruct.error: unpack_from requires a buffer of at least 4 bytes for unpacking 4 bytes at offset 0 (actual buffer size is 0)\n\nThe above exception was the direct cause of the following exception:\n\nTraceback (most recent call last):\n  File \"/usr/local/lib/python3.10/dist-packages/torch/utils/data/_utils/worker.py\", line 308, in _worker_loop\n    data = fetcher.fetch(index)\n  File \"/usr/local/lib/python3.10/dist-packages/torch/utils/data/_utils/fetch.py\", line 51, in fetch\n    data = [self.dataset[idx] for idx in possibly_batched_index]\n  File \"/usr/local/lib/python3.10/dist-packages/torch/utils/data/_utils/fetch.py\", line 51, in <listcomp>\n    data = [self.dataset[idx] for idx in possibly_batched_index]\n  File \"/content/AML_project_poliTO/cityscapes.py\", line 165, in __getitem__\n    img = Image.open(impth).convert('RGB')\n  File \"/usr/local/lib/python3.10/dist-packages/PIL/Image.py\", line 937, in convert\n    self.load()\n  File \"/usr/local/lib/python3.10/dist-packages/PIL/ImageFile.py\", line 256, in load\n    raise OSError(msg) from e\nOSError: image file is truncated\n"
          ]
        }
      ]
    }
  ]
}