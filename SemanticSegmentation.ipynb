{
  "nbformat": 4,
  "nbformat_minor": 0,
  "metadata": {
    "colab": {
      "provenance": [],
      "gpuType": "T4",
      "authorship_tag": "ABX9TyNePDF51qbuoKBQlYQ3QYZB",
      "include_colab_link": true
    },
    "kernelspec": {
      "name": "python3",
      "display_name": "Python 3"
    },
    "language_info": {
      "name": "python"
    },
    "accelerator": "GPU"
  },
  "cells": [
    {
      "cell_type": "markdown",
      "metadata": {
        "id": "view-in-github",
        "colab_type": "text"
      },
      "source": [
        "<a href=\"https://colab.research.google.com/github/peppe-sc/AML_project_poliTO/blob/test_GS/SemanticSegmentation.ipynb\" target=\"_parent\"><img src=\"https://colab.research.google.com/assets/colab-badge.svg\" alt=\"Open In Colab\"/></a>"
      ]
    },
    {
      "cell_type": "code",
      "source": [
        "from google.colab import drive\n",
        "drive.mount('/content/drive')\n",
        "\n",
        "!pip install tensorboardX"
      ],
      "metadata": {
        "id": "QbtIQRteH5j_"
      },
      "execution_count": null,
      "outputs": []
    },
    {
      "cell_type": "code",
      "source": [
        "!jar xvf  \"/content/drive/MyDrive/AML/Cityscapes.zip\""
      ],
      "metadata": {
        "id": "iv3cZGeRH5P9"
      },
      "execution_count": null,
      "outputs": []
    },
    {
      "cell_type": "code",
      "source": [
        "#!jar xvf  \"/content/drive/MyDrive/AML/GTA5.zip\""
      ],
      "metadata": {
        "id": "bu3j5W7AH_Vw"
      },
      "execution_count": null,
      "outputs": []
    },
    {
      "cell_type": "code",
      "execution_count": null,
      "metadata": {
        "id": "9hmmoCjtHtCG"
      },
      "outputs": [],
      "source": [
        "import os\n",
        "import os.path\n",
        "\n",
        "if not os.path.isdir('/content/AML_project_poliTO'):\n",
        "  !git clone -b test_GS https://github.com/peppe-sc/AML_project_poliTO.git\n",
        "  %cd AML_project_poliTO\n",
        "\n",
        "if os.path.isdir('./AML_project_poliTO'):\n",
        "  %cd AML_project_poliTO\n",
        "\n",
        "\n",
        "!git pull origin test_GS"
      ]
    },
    {
      "cell_type": "code",
      "source": [
        "!python train.py"
      ],
      "metadata": {
        "id": "IHl6V7vgH4Uq"
      },
      "execution_count": null,
      "outputs": []
    }
  ]
}