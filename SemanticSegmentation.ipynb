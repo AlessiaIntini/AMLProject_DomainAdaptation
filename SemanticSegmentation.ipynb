{
  "nbformat": 4,
  "nbformat_minor": 0,
  "metadata": {
    "colab": {
      "provenance": [],
      "gpuType": "T4",
      "include_colab_link": true
    },
    "kernelspec": {
      "name": "python3",
      "display_name": "Python 3"
    },
    "language_info": {
      "name": "python"
    },
    "accelerator": "GPU"
  },
  "cells": [
    {
      "cell_type": "markdown",
      "metadata": {
        "id": "view-in-github",
        "colab_type": "text"
      },
      "source": [
        "<a href=\"https://colab.research.google.com/github/peppe-sc/AML_project_poliTO/blob/test_GS/SemanticSegmentation.ipynb\" target=\"_parent\"><img src=\"https://colab.research.google.com/assets/colab-badge.svg\" alt=\"Open In Colab\"/></a>"
      ]
    },
    {
      "cell_type": "code",
      "source": [
        "from google.colab import drive\n",
        "drive.mount('/content/drive')\n",
        "\n",
        "!pip install tensorboardX"
      ],
      "metadata": {
        "id": "QbtIQRteH5j_"
      },
      "execution_count": null,
      "outputs": []
    },
    {
      "cell_type": "code",
      "source": [
        "!jar xvf  \"/content/drive/MyDrive/AML/Cityscapes.zip\""
      ],
      "metadata": {
        "id": "iv3cZGeRH5P9"
      },
      "execution_count": null,
      "outputs": []
    },
    {
      "cell_type": "code",
      "source": [
        "#!jar xvf  \"/content/drive/MyDrive/AML/GTA5.zip\""
      ],
      "metadata": {
        "id": "bu3j5W7AH_Vw"
      },
      "execution_count": null,
      "outputs": []
    },
    {
      "cell_type": "code",
      "execution_count": null,
      "metadata": {
        "id": "9hmmoCjtHtCG"
      },
      "outputs": [],
      "source": [
        "import os\n",
        "import os.path\n",
        "\n",
        "if not os.path.isdir('/content/AML_project_poliTO'):\n",
        "  !git clone -b test_GS https://github.com/peppe-sc/AML_project_poliTO.git\n",
        "  %cd AML_project_poliTO\n",
        "\n",
        "if os.path.isdir('./AML_project_poliTO'):\n",
        "  %cd AML_project_poliTO\n",
        "\n",
        "\n",
        "!git pull origin test_GS"
      ]
    },
    {
      "cell_type": "code",
      "source": [
        "!python train.py"
      ],
      "metadata": {
        "id": "IHl6V7vgH4Uq",
        "colab": {
          "base_uri": "https://localhost:8080/"
        },
        "outputId": "90a07b86-1c61-44d4-8c54-97509bba3547"
      },
      "execution_count": null,
      "outputs": [
        {
          "output_type": "stream",
          "name": "stdout",
          "text": [
            "training on CityScapes\n",
            "root:  /content/Cityscapes/Cityspaces\n",
            "root:  /content/Cityscapes/Cityspaces\n",
            "load pretrained model checkpoints/STDCNet813M_73.91.tar\n",
            "epoch 0, lr 0.010000: 100% 1572/1572 [03:39<00:00,  7.17it/s, loss=1.796892]\n",
            "loss for train : 2.558560\n",
            "epoch 1, lr 0.009820: 100% 1572/1572 [03:39<00:00,  7.17it/s, loss=1.465812]\n",
            "loss for train : 1.760266\n",
            "epoch 2, lr 0.009639: 100% 1572/1572 [03:23<00:00,  7.71it/s, loss=1.401109]\n",
            "loss for train : 1.503523\n",
            "epoch 3, lr 0.009458: 100% 1572/1572 [03:25<00:00,  7.66it/s, loss=1.368629]\n",
            "loss for train : 1.319353\n",
            "epoch 4, lr 0.009277: 100% 1572/1572 [03:27<00:00,  7.56it/s, loss=1.265275]\n",
            "loss for train : 1.198016\n",
            "epoch 5, lr 0.009095: 100% 1572/1572 [03:21<00:00,  7.79it/s, loss=1.205947]\n",
            "loss for train : 1.100610\n",
            "start val!\n",
            "precision per pixel for test: 0.743\n",
            "mIoU for validation: 0.313\n",
            "mIoU per class: [0.89334145 0.47477064 0.76554547 0.06952323 0.07172409 0.19305561\n",
            " 0.09673887 0.22801777 0.80966262 0.22679938 0.84009705 0.31645567\n",
            " 0.01464981 0.69175909 0.         0.01007017 0.         0.01011887\n",
            " 0.23639669]\n",
            "epoch 6, lr 0.008913: 100% 1572/1572 [03:21<00:00,  7.80it/s, loss=1.371280]\n",
            "loss for train : 1.017353\n",
            "epoch 7, lr 0.008731: 100% 1572/1572 [03:12<00:00,  8.18it/s, loss=1.001122]\n",
            "loss for train : 0.971948\n",
            "epoch 8, lr 0.008548: 100% 1572/1572 [03:12<00:00,  8.16it/s, loss=1.083635]\n",
            "loss for train : 0.881483\n",
            "epoch 9, lr 0.008364:  60% 936/1572 [01:54<01:29,  7.11it/s, loss=0.764048]"
          ]
        }
      ]
    }
  ]
}