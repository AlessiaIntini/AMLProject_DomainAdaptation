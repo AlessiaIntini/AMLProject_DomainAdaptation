{
  "nbformat": 4,
  "nbformat_minor": 0,
  "metadata": {
    "colab": {
      "provenance": [],
      "gpuType": "T4",
      "include_colab_link": true
    },
    "kernelspec": {
      "name": "python3",
      "display_name": "Python 3"
    },
    "language_info": {
      "name": "python"
    },
    "accelerator": "GPU"
  },
  "cells": [
    {
      "cell_type": "markdown",
      "metadata": {
        "id": "view-in-github",
        "colab_type": "text"
      },
      "source": [
        "<a href=\"https://colab.research.google.com/github/peppe-sc/AML_project_poliTO/blob/test_GS/SemanticSegmentation.ipynb\" target=\"_parent\"><img src=\"https://colab.research.google.com/assets/colab-badge.svg\" alt=\"Open In Colab\"/></a>"
      ]
    },
    {
      "cell_type": "code",
      "source": [
        "from google.colab import drive\n",
        "drive.mount('/content/drive')\n",
        "\n",
        "!pip install tensorboardX"
      ],
      "metadata": {
        "id": "QbtIQRteH5j_"
      },
      "execution_count": null,
      "outputs": []
    },
    {
      "cell_type": "code",
      "source": [
        "!jar xvf  \"/content/drive/MyDrive/AML/Cityscapes.zip\""
      ],
      "metadata": {
        "id": "iv3cZGeRH5P9"
      },
      "execution_count": null,
      "outputs": []
    },
    {
      "cell_type": "code",
      "source": [
        "#!jar xvf  \"/content/drive/MyDrive/AML/GTA5.zip\""
      ],
      "metadata": {
        "id": "bu3j5W7AH_Vw"
      },
      "execution_count": null,
      "outputs": []
    },
    {
      "cell_type": "code",
      "execution_count": 8,
      "metadata": {
        "id": "9hmmoCjtHtCG",
        "colab": {
          "base_uri": "https://localhost:8080/"
        },
        "outputId": "fbf7520a-ee19-43ca-adf1-a1cb9198fca9"
      },
      "outputs": [
        {
          "output_type": "stream",
          "name": "stdout",
          "text": [
            "remote: Enumerating objects: 5, done.\u001b[K\n",
            "remote: Counting objects:  20% (1/5)\u001b[K\rremote: Counting objects:  40% (2/5)\u001b[K\rremote: Counting objects:  60% (3/5)\u001b[K\rremote: Counting objects:  80% (4/5)\u001b[K\rremote: Counting objects: 100% (5/5)\u001b[K\rremote: Counting objects: 100% (5/5), done.\u001b[K\n",
            "remote: Compressing objects: 100% (1/1)\u001b[K\rremote: Compressing objects: 100% (1/1), done.\u001b[K\n",
            "remote: Total 3 (delta 2), reused 3 (delta 2), pack-reused 0\u001b[K\n",
            "Unpacking objects:  33% (1/3)\rUnpacking objects:  66% (2/3)\rUnpacking objects: 100% (3/3)\rUnpacking objects: 100% (3/3), 301 bytes | 301.00 KiB/s, done.\n",
            "From https://github.com/peppe-sc/AML_project_poliTO\n",
            " * branch            test_GS    -> FETCH_HEAD\n",
            "   9b3617f..bd7d9d2  test_GS    -> origin/test_GS\n",
            "Updating 9b3617f..bd7d9d2\n",
            "Fast-forward\n",
            " train.py | 8 \u001b[32m++++\u001b[m\u001b[31m----\u001b[m\n",
            " 1 file changed, 4 insertions(+), 4 deletions(-)\n"
          ]
        }
      ],
      "source": [
        "import os\n",
        "import os.path\n",
        "\n",
        "if not os.path.isdir('/content/AML_project_poliTO'):\n",
        "  !git clone -b test_GS https://github.com/peppe-sc/AML_project_poliTO.git\n",
        "  %cd AML_project_poliTO\n",
        "\n",
        "if os.path.isdir('./AML_project_poliTO'):\n",
        "  %cd AML_project_poliTO\n",
        "\n",
        "\n",
        "!git pull origin test_GS"
      ]
    },
    {
      "cell_type": "code",
      "source": [
        "!python train.py --resume True"
      ],
      "metadata": {
        "id": "IHl6V7vgH4Uq",
        "colab": {
          "base_uri": "https://localhost:8080/"
        },
        "outputId": "720765ee-3108-4466-98c2-b9aaca90384e"
      },
      "execution_count": 9,
      "outputs": [
        {
          "output_type": "stream",
          "name": "stdout",
          "text": [
            "training on CityScapes\n",
            "root:  /content/Cityscapes/Cityspaces\n",
            "root:  /content/Cityscapes/Cityspaces\n",
            "load pretrained model checkpoints/STDCNet813M_73.91.tar\n",
            "epoch 41, lr 0.002137: 100% 1572/1572 [03:27<00:00,  7.59it/s, loss=0.217063]\n",
            "loss for train : 0.234862\n",
            "epoch 42, lr 0.001922: 100% 1572/1572 [03:16<00:00,  7.98it/s, loss=0.207091]\n",
            "loss for train : 0.228260\n",
            "epoch 43, lr 0.001704: 100% 1572/1572 [03:16<00:00,  7.98it/s, loss=0.208591]\n",
            "loss for train : 0.223222\n",
            "epoch 44, lr 0.001483: 100% 1572/1572 [03:18<00:00,  7.91it/s, loss=0.202125]\n",
            "loss for train : 0.217302\n",
            "epoch 45, lr 0.001259: 100% 1572/1572 [03:14<00:00,  8.08it/s, loss=0.185739]\n",
            "loss for train : 0.211092\n",
            "start val!\n",
            "precision per pixel for test: 0.791\n",
            "mIoU for validation: 0.466\n",
            "mIoU per class: [0.95623177 0.7006629  0.83178165 0.25712256 0.2728671  0.31934908\n",
            " 0.24577002 0.41423111 0.85842073 0.46148241 0.89464304 0.53151947\n",
            " 0.18955731 0.81969422 0.13588438 0.18400597 0.10967207 0.17954437\n",
            " 0.48946906]\n",
            "epoch 46, lr 0.001030: 100% 1572/1572 [03:20<00:00,  7.83it/s, loss=0.181282]\n",
            "loss for train : 0.205513\n",
            "epoch 47, lr 0.000795: 100% 1572/1572 [03:20<00:00,  7.84it/s, loss=0.180336]\n",
            "loss for train : 0.199759\n",
            "epoch 48, lr 0.000552: 100% 1572/1572 [03:17<00:00,  7.94it/s, loss=0.176435]\n",
            "loss for train : 0.195667\n",
            "epoch 49, lr 0.000296: 100% 1572/1572 [03:17<00:00,  7.96it/s, loss=0.175845]\n",
            "loss for train : 0.193293\n",
            "start val!\n",
            "precision per pixel for test: 0.792\n",
            "mIoU for validation: 0.463\n",
            "mIoU per class: [0.95729381 0.70433882 0.83733702 0.21043427 0.29977759 0.30331856\n",
            " 0.22575936 0.41912968 0.8590918  0.47133932 0.89132433 0.52597929\n",
            " 0.18688209 0.81513882 0.14447846 0.17851452 0.1052594  0.17618479\n",
            " 0.4909021 ]\n"
          ]
        }
      ]
    }
  ]
}